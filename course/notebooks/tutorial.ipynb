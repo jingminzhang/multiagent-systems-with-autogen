{
 "cells": [
  {
   "cell_type": "markdown",
   "metadata": {},
   "source": [
    "## Building Multi-Agent Systems with the AutoGen AgentChat API \n",
    "\n",
    "AutoGen recently released a new version of the [framework (v0.4)](https://microsoft.github.io/autogen/0.2/blog/) with an asynchronous event driven api where agents primary act when they receive a message. It introduces the concept of runtimes (which may be single threaded or distributed) and agents that can be run on these runtimes.\n",
    "\n",
    "It also includes a high level API - [AgentChat]() that focuses on providing presets for agent behaviours and how these agents can interact as part of a team or workflow.\n",
    "\n",
    "This notebook provides an example of the AgentChat API.\n",
    "\n",
    "\n",
    "\n",
    "###   Migrating from AutoGen v0.2 -> AutoGen AgentChat v0.4 \n",
    "\n",
    "AgentChat is written to be at similar level of abstraction as AutoGen 0.2\n",
    "- UserProxyAgent -> UserProxyAgent\n",
    "- AssistantAgent -> AssistantAgent  \n",
    "- GroupChat \n",
    "   - RoundRobinGroupChat -> GroupChat (speaker_selection='round_robin') \n",
    "   - SelectorGroupChat -> GroupChat (speaker_selection='llm')  \n"
   ]
  },
  {
   "cell_type": "code",
   "execution_count": 27,
   "metadata": {},
   "outputs": [],
   "source": [
    "# install the agentchat package\n",
    "# !pip install -U 'autogen-agentchat==0.4.0.dev6' 'autogen-ext==0.4.0.dev6'  openai"
   ]
  },
  {
   "cell_type": "code",
   "execution_count": 28,
   "metadata": {},
   "outputs": [],
   "source": [
    "from autogen_agentchat.agents import AssistantAgent\n",
    "from autogen_agentchat.task import Console, TextMentionTermination\n",
    "from autogen_agentchat.teams import RoundRobinGroupChat, SelectorGroupChat\n",
    "from autogen_ext.models import OpenAIChatCompletionClient"
   ]
  },
  {
   "cell_type": "markdown",
   "metadata": {},
   "source": [
    "## A Single Agent \n",
    "\n",
    "Basic example of a single agent that can receive a message and respond using an LLM.\""
   ]
  },
  {
   "cell_type": "code",
   "execution_count": 29,
   "metadata": {},
   "outputs": [
    {
     "name": "stdout",
     "output_type": "stream",
     "text": [
      "The height of the Eiffel Tower is approximately 1,083 feet (330 meters) including its antennas. The tower itself, without antennas, is about 1,063 feet (324 meters) tall. TERMINATE\n"
     ]
    }
   ],
   "source": [
    "agent = AssistantAgent( name=\"single_agent\", model_client=OpenAIChatCompletionClient( model=\"gpt-4o-mini\")) \n",
    "\n",
    "result = await agent.run(task=\"What is the height of the eiffel tower?\") \n",
    "print(result.messages[-1].content)"
   ]
  },
  {
   "cell_type": "code",
   "execution_count": 30,
   "metadata": {},
   "outputs": [
    {
     "name": "stdout",
     "output_type": "stream",
     "text": [
      "I can't provide real-time weather updates. I recommend checking a reliable weather website or app for the latest information on the weather in San Francisco. TERMINATE\n"
     ]
    }
   ],
   "source": [
    "agent = AssistantAgent( name=\"single_agent\", model_client=OpenAIChatCompletionClient( model=\"gpt-4o-mini\")) \n",
    "\n",
    "result = await agent.run(task=\"What is the Weather in San Francisco?\") \n",
    "print(result.messages[-1].content)"
   ]
  },
  {
   "cell_type": "code",
   "execution_count": 31,
   "metadata": {},
   "outputs": [
    {
     "name": "stdout",
     "output_type": "stream",
     "text": [
      "The weather in San Francisco is 73 degrees and sunny.\n"
     ]
    }
   ],
   "source": [
    "def get_weather(city: str) -> str:\n",
    "    return f\"The weather in {city} is 73 degrees and Sunny.\"\n",
    "\n",
    "agent = AssistantAgent(\n",
    "    name=\"basic_agent\", model_client=OpenAIChatCompletionClient(model=\"gpt-4o-mini\"), \n",
    "    tools=[get_weather])\n",
    "result = await agent.run(task=\"What is the Weather in San Francisco?\") \n",
    "print(result.messages[-1].content)"
   ]
  },
  {
   "cell_type": "markdown",
   "metadata": {},
   "source": []
  },
  {
   "cell_type": "code",
   "execution_count": null,
   "metadata": {},
   "outputs": [],
   "source": []
  },
  {
   "cell_type": "markdown",
   "metadata": {},
   "source": [
    "## Defining an Agent Team \n",
    "\n",
    "AgentChat offers several team presents. In the following section, we will review a RoundRobinGroupChat team where each agent in the team takes turns to respond to a message in a round-robin fashion."
   ]
  },
  {
   "cell_type": "code",
   "execution_count": 32,
   "metadata": {},
   "outputs": [],
   "source": [
    "agent = AssistantAgent(\n",
    "    name=\"basic_agent\", model_client=OpenAIChatCompletionClient(model=\"gpt-4o-mini\"))\n",
    "\n",
    "team = RoundRobinGroupChat(\n",
    "    participants=[agent], termination_condition=TextMentionTermination(\"TERMINATE\"))\n",
    "\n",
    "team_result = await team.run(task=\"What is the weather in San Francisco?\")\n"
   ]
  },
  {
   "cell_type": "code",
   "execution_count": 33,
   "metadata": {},
   "outputs": [
    {
     "name": "stdout",
     "output_type": "stream",
     "text": [
      "What is the weather in San Francisco?\n",
      "I cannot provide real-time data like current weather conditions. You can check a reliable weather website or a weather app for the latest updates on San Francisco's weather. TERMINATE\n"
     ]
    }
   ],
   "source": [
    "for message in team_result.messages:\n",
    "    print(message.content)"
   ]
  },
  {
   "cell_type": "markdown",
   "metadata": {},
   "source": [
    "## Giving Agents Access to Tools "
   ]
  },
  {
   "cell_type": "code",
   "execution_count": 34,
   "metadata": {},
   "outputs": [],
   "source": [
    "def get_weather(city: str) -> str:\n",
    "    return f\"The weather in {city} is 73 degrees and Sunny.\"\n",
    "\n",
    "agent = AssistantAgent(\n",
    "    name=\"basic_agent\", model_client=OpenAIChatCompletionClient(model=\"gpt-4o-mini\"), \n",
    "    tools=[get_weather])\n",
    "\n",
    "team = RoundRobinGroupChat(\n",
    "    participants=[agent], termination_condition=TextMentionTermination(\"TERMINATE\"))\n",
    "\n",
    "team_result = await team.run(task=\"What is the weather in San Francisco?\")"
   ]
  },
  {
   "cell_type": "code",
   "execution_count": 35,
   "metadata": {},
   "outputs": [
    {
     "name": "stdout",
     "output_type": "stream",
     "text": [
      "What is the weather in San Francisco?\n",
      "[FunctionCall(id='call_LCS4QBl0eQpVTGlnSFz5buby', arguments='{\"city\":\"San Francisco\"}', name='get_weather')]\n",
      "[FunctionExecutionResult(content='The weather in San Francisco is 73 degrees and Sunny.', call_id='call_LCS4QBl0eQpVTGlnSFz5buby')]\n",
      "The weather in San Francisco is currently 73 degrees and sunny.\n",
      "TERMINATE\n"
     ]
    }
   ],
   "source": [
    "for message in team_result.messages:\n",
    "    print(message.content)"
   ]
  },
  {
   "cell_type": "code",
   "execution_count": null,
   "metadata": {},
   "outputs": [],
   "source": []
  },
  {
   "cell_type": "markdown",
   "metadata": {},
   "source": [
    "# Book Generator Team \n",
    "\n",
    "In this section, we will create a team of agents that can generate a simple childrens book. \n",
    "We will create 3 agents, \n",
    "- Planner: Receives a request to generate a book and creates a plan for the book content and structure \n",
    "- Image Generator: Has access to an image generation tool and can use it to generate images based on the text provided by the planner\n",
    "- Book Generator: Wraps content created so far into a pdf book"
   ]
  },
  {
   "cell_type": "code",
   "execution_count": null,
   "metadata": {},
   "outputs": [
    {
     "data": {
      "text/plain": [
       "'sample_report.pdf'"
      ]
     },
     "execution_count": 36,
     "metadata": {},
     "output_type": "execute_result"
    }
   ],
   "source": [
    "from fpdf import FPDF\n",
    "import requests\n",
    "import os\n",
    "from tempfile import gettempdir\n",
    "from PIL import Image\n",
    "from io import BytesIO\n",
    "\n",
    "def generate_and_save_pdf_report(sections: list, output_file: str = \"book.pdf\", report_title: str = \"Book\") -> str:\n",
    "    \"\"\"\n",
    "    Generate a PDF report with text and images from provided sections.\n",
    "\n",
    "    Args:\n",
    "        sections (list): List of dictionaries containing section data. Each section should have:\n",
    "            - title (str): Section title\n",
    "            - content (str): Section content text\n",
    "            - image (str): Path or URL to image file\n",
    "            - level (str): Heading level (e.g., 'h1', 'h2')\n",
    "        output_file (str, optional): Name of output PDF file. Defaults to \"book.pdf\".\n",
    "        report_title (str, optional): Title of the report. Defaults to \"Book\".\n",
    "\n",
    "    Returns:\n",
    "        str: Path to the generated PDF file.\n",
    "\n",
    "    Example:\n",
    "        sections = [{\n",
    "            'title': 'Chapter 1',\n",
    "            'content': 'Chapter content...',\n",
    "            'image': 'path/to/image.png',\n",
    "            'level': 'h1'\n",
    "        }]\n",
    "        pdf_path = generate_and_save_pdf_report(sections, \"output.pdf\", \"My Book\")\n",
    "    \"\"\"\n",
    "    \n",
    "    pdf = FPDF()\n",
    "    pdf.set_auto_page_break(auto=True, margin=15)\n",
    "    \n",
    "    def sanitize_text(text):\n",
    "        return text.encode('ascii', 'replace').decode()\n",
    "\n",
    "    def add_image(img_path):\n",
    "        try:\n",
    "            # Remove sandbox prefix if present\n",
    "            img_path = img_path.replace('sandbox:/', '')\n",
    "            \n",
    "            if img_path.startswith(('http://', 'https://')):\n",
    "                response = requests.get(img_path)\n",
    "                img = Image.open(BytesIO(response.content))\n",
    "                temp_path = os.path.join(gettempdir(), \"temp_image.png\")\n",
    "                img.save(temp_path, 'PNG')\n",
    "                pdf.image(temp_path, x=10, w=190)\n",
    "                os.remove(temp_path)\n",
    "            else:\n",
    "                pdf.image(img_path, x=10, w=190)\n",
    "        except Exception as e:\n",
    "            print(f\"Image error: {e}\")\n",
    "\n",
    "    for section in sections:\n",
    "        pdf.add_page()\n",
    "        if section.get(\"title\"):\n",
    "            pdf.set_font('Arial', 'B', 16)\n",
    "            pdf.cell(0, 10, txt=sanitize_text(section[\"title\"]), ln=True)\n",
    "        if section.get(\"content\"):\n",
    "            pdf.set_font('Arial', '', 12)\n",
    "            pdf.multi_cell(0, 10, txt=sanitize_text(section[\"content\"]))\n",
    "        if section.get(\"image\"):\n",
    "            add_image(section[\"image\"])\n",
    "            pdf.ln(10)\n",
    "\n",
    "    pdf.output(output_file)\n",
    "    return output_file\n",
    "\n",
    "from openai import  OpenAI \n",
    "# Define the tool functions\n",
    "def generate_and_save_images(query: str, image_size: str = \"1024x1024\") -> List[str]:\n",
    "    \"\"\"   \n",
    "    Function to generate images using OpenAI's DALL-E model based on a given prompt query.\n",
    "\n",
    "    :param query: The prompt query to generate the image.\n",
    "    :param image_size: The size of the image in the format \"width x height\". (default is \"1024x1024\")\n",
    "    :return: A list of saved image file paths. \n",
    "\n",
    "    \"\"\"\n",
    "    client = OpenAI()\n",
    "    response = client.images.generate(model=\"dall-e-3\", prompt=query, n=1, size=image_size)\n",
    "    saved_files = []\n",
    "    \n",
    "    if response.data:\n",
    "        for image_data in response.data:\n",
    "            file_name = str(uuid.uuid4()) + \".png\"\n",
    "            file_path = Path(file_name)\n",
    "            img_url = image_data.url\n",
    "            img_response = requests.get(img_url)\n",
    "            if img_response.status_code == 200:\n",
    "                with open(file_path, \"wb\") as img_file:\n",
    "                    img_file.write(img_response.content)\n",
    "                saved_files.append(str(file_path))\n",
    "    return saved_files\n",
    "\n",
    "sample_book = sections = [\n",
    "    {\n",
    "        \"title\": \"Introduction - Early Life\",\n",
    "        \"level\": \"h1\",\n",
    "        \"image\": \"https://picsum.photos/536/354\",\n",
    "        \"content\": (\"Marie Curie was born on 7 November 1867 in Warsaw, Poland. \"\n",
    "                    \"She was the youngest of five children. Both of her parents were teachers. \"\n",
    "                    \"Her father was a math and physics instructor, and her mother was the head of a private school. \"\n",
    "                    \"Marie's curiosity and brilliance were evident from an early age.\"),\n",
    "    }]\n",
    "generate_and_save_pdf_report(sections=sample_book, output_file=\"sample_report.pdf\", report_title=\"Marie Curie Report\")"
   ]
  },
  {
   "cell_type": "code",
   "execution_count": 37,
   "metadata": {},
   "outputs": [],
   "source": [
    "# Story planner agent\n",
    "planner_agent = AssistantAgent(\n",
    "    \"planner_agent\",\n",
    "    model_client=OpenAIChatCompletionClient(model=\"gpt-4o-mini\"),\n",
    "    description=\"A creative writer that can plan and write children's stories.\",\n",
    "    system_message=\"\"\"You are a creative writer specialized in children's stories. \n",
    "    Your role is to create engaging, age-appropriate story outlines and content.\n",
    "    For each story section, provide a title, content, and a detailed image description for illustration.\n",
    "    Structure each section as:\n",
    "    {\n",
    "        'title': 'Section Title',\n",
    "        'content': 'Story content for this section',\n",
    "        'image_description': 'Detailed description for image generation'\n",
    "    }\"\"\"\n",
    ")\n",
    "\n",
    "# Image generator agent\n",
    "image_generator_agent = AssistantAgent(\n",
    "    \"image_generator_agent\",\n",
    "    model_client=OpenAIChatCompletionClient(model=\"gpt-4o-mini\"),\n",
    "    description=\"An agent that generates images for the story using DALL-E.\",\n",
    "    system_message=\"\"\"You are an AI image generator specialist.\n",
    "    Use the generate_and_save_images() function to create illustrations based on provided descriptions.\"\"\",\n",
    "    tools=[generate_and_save_images]\n",
    ")\n",
    "\n",
    "# Book compiler agent\n",
    "book_generator_agent = AssistantAgent(\n",
    "    \"book_generator_agent\",\n",
    "    model_client=OpenAIChatCompletionClient(model=\"gpt-4\"),\n",
    "    description=\"An agent that compiles the story and images into a PDF book.\",\n",
    "    system_message=\"\"\"You are a book compilation specialist.\n",
    "    Your role is to collect story sections and images, format them for PDF generation, and create the final book.\n",
    "    IMPORTANT: Use the actual image file paths returned by the image generator, not placeholder names. For example if the image generator return '71e6aba5-1a7e-488c-9388-e3bc1eeb88c7.png', then use this exactly as the image path in the book generation without any prefix or suffix.\n",
    "    Respond with 'TERMINATE' when the book is successfully generated.\"\"\",\n",
    "    tools=[generate_and_save_pdf_report]\n",
    ")\n"
   ]
  },
  {
   "cell_type": "code",
   "execution_count": 38,
   "metadata": {},
   "outputs": [],
   "source": [
    "\n",
    "# Set up the group chat with termination condition\n",
    "book_team = SelectorGroupChat(\n",
    "    participants=[planner_agent, image_generator_agent, book_generator_agent],\n",
    "    termination_condition=TextMentionTermination(\"TERMINATE\"),\n",
    "    model_client=OpenAIChatCompletionClient(model=\"gpt-4o-mini\"),\n",
    "    selector_prompt=\"You are  book generation cordinator. The following agent roles are helping you create a book: {roles}. Your goal is to read the progress so far and then select the next role from {participants} to take a turn. Only return the role. . {history}. You must call the agents in the right order  \\nRead the above conversation.  Then select the next role from {participants} to play. Only return the role.\"\n",
    ")\n",
    "book_result = book_team.run_stream(task=\"Create a 1 page children's story with 2 images and text about the wonders of the amazon rainforest.\") "
   ]
  },
  {
   "cell_type": "code",
   "execution_count": 39,
   "metadata": {},
   "outputs": [
    {
     "name": "stdout",
     "output_type": "stream",
     "text": [
      "source='user' models_usage=None content=\"Create a 1 page children's story with 2 images and text about the wonders of the amazon rainforest.\"\n",
      "source='planner_agent' models_usage=RequestUsage(prompt_tokens=121, completion_tokens=611) content=\"{\\n    'title': 'The Magical Amazon Adventure',\\n    'content': 'Once upon a time, in a vibrant town nestled near the Amazon rainforest, lived a curious little girl named Mia. Mia loved nature and was fascinated by the stories her grandmother told her about the wonders of the Amazon. One sunny morning, Mia decided to venture into the jungle to see it for herself. Wearing her favourite green hat and a backpack filled with snacks, she set off on her adventure.\\\\n\\\\nAs Mia entered the rainforest, she was greeted by a symphony of sounds - chirping birds, buzzing insects, and rustling leaves. Brightly colored butterflies fluttered around her, dancing like little jewels in the air. “Wow!” Mia exclaimed. “This place is like a treasure chest!”\\\\n\\\\nMia marveled at the towering trees, their trunks thick and twisted. She spotted various creatures peeking out: a toucan with its big beak, a sloth hanging lazily from a branch, and tiny red poison dart frogs hopping along the ground. Each step was an exploration, a discovery waiting to happen! ',\\n    'image_description': 'Illustration of a lush Amazon rainforest. In the foreground, little Mia wears a green hat and a backpack, with a huge smile as she observes a colorful toucan perched on a branch. The scenery features towering trees, vibrant green leaves, and bright butterflies fluttering. The sky is clear blue, and shafts of sunlight filter through the foliage.'\\n},\\n\\n{\\n    'title': 'The Hidden Wonders',\\n    'content': 'As Mia trekked deeper into the rainforest, she stumbled upon a sparkling river. Glimmering like diamonds, the water swirled around smooth stones. Excitedly, she leaned in for a closer look and gasped at the sight of colorful fish darting beneath the surface. It felt like they were playing hide and seek!\\\\n\\\\nSuddenly, she heard a gentle rustling behind her. Turning around, Mia saw a playful monkey swinging from a vine. “Come play with me!” it chattered, beckoning her to join. Mia laughed and followed the monkey, skipping over roots and dodging branches. They laughed together, discovering secret paths and beautiful flowers that seemed to glow.\\\\n\\\\nAs the sun began to set, painting the sky with shades of orange and pink, Mia realized it was time to head home. She waved goodbye to her new monkey friend, promising to return for more adventures. With her heart full of wonder and joy, she made her way back, eager to share her magical day with her grandmother.',\\n    'image_description': 'Illustration of a clear, sparkling river in the Amazon. Little Mia is laughing and playing with a small, cheeky monkey swinging on a vine. The river is surrounded by lush greenery, colorful flowers, and various fish visible in the water. The sky is vibrant with shades of orange and pink from the sunset, casting a warm glow over the scene, creating a magical atmosphere.' \\n}\"\n",
      "source='image_generator_agent' models_usage=RequestUsage(prompt_tokens=802, completion_tokens=184) content=[FunctionCall(id='call_tZCrbDAZXHv6fmwxfG44QpZE', arguments='{\"query\": \"A lush Amazon rainforest with a little girl named Mia wearing a green hat and a backpack, smiling as she observes a colorful toucan perched on a branch. The scene includes tall trees, vibrant green leaves, bright butterflies fluttering, and a clear blue sky with sunlight filtering through the foliage.\", \"image_size\": \"1024x1024\"}', name='generate_and_save_images'), FunctionCall(id='call_xYVqplTs1PGsKdDdARch1CLn', arguments='{\"query\": \"A clear sparkling river in the Amazon with a little girl named Mia laughing and playing with a cheeky monkey swinging on a vine. The river is surrounded by lush greenery, colorful flowers, and various fish visible in the water. The sky is vibrant with shades of orange and pink from the sunset, creating a magical atmosphere.\", \"image_size\": \"1024x1024\"}', name='generate_and_save_images')]\n",
      "source='image_generator_agent' models_usage=None content=[FunctionExecutionResult(content=\"['479e1647-55e5-46e5-b252-a8564193b4b5.png']\", call_id='call_tZCrbDAZXHv6fmwxfG44QpZE'), FunctionExecutionResult(content=\"['6218117c-4bd1-4461-ab09-8027da944751.png']\", call_id='call_xYVqplTs1PGsKdDdARch1CLn')]\n",
      "source='image_generator_agent' models_usage=RequestUsage(prompt_tokens=1024, completion_tokens=494) content='### The Magical Amazon Adventure\\n\\nOnce upon a time, in a vibrant town nestled near the Amazon rainforest, lived a curious little girl named Mia. Mia loved nature and was fascinated by the stories her grandmother told her about the wonders of the Amazon. One sunny morning, Mia decided to venture into the jungle to see it for herself. Wearing her favourite green hat and a backpack filled with snacks, she set off on her adventure.\\n\\nAs Mia entered the rainforest, she was greeted by a symphony of sounds - chirping birds, buzzing insects, and rustling leaves. Brightly colored butterflies fluttered around her, dancing like little jewels in the air. “Wow!” Mia exclaimed. “This place is like a treasure chest!”\\n\\nMia marveled at the towering trees, their trunks thick and twisted. She spotted various creatures peeking out: a toucan with its big beak, a sloth hanging lazily from a branch, and tiny red poison dart frogs hopping along the ground. Each step was an exploration, a discovery waiting to happen!\\n\\n![Mia observing a toucan in the rainforest](sandbox:/479e1647-55e5-46e5-b252-a8564193b4b5.png)\\n\\n---\\n\\n### The Hidden Wonders\\n\\nAs Mia trekked deeper into the rainforest, she stumbled upon a sparkling river. Glimmering like diamonds, the water swirled around smooth stones. Excitedly, she leaned in for a closer look and gasped at the sight of colorful fish darting beneath the surface. It felt like they were playing hide and seek!\\n\\nSuddenly, she heard a gentle rustling behind her. Turning around, Mia saw a playful monkey swinging from a vine. “Come play with me!” it chattered, beckoning her to join. Mia laughed and followed the monkey, skipping over roots and dodging branches. They laughed together, discovering secret paths and beautiful flowers that seemed to glow.\\n\\nAs the sun began to set, painting the sky with shades of orange and pink, Mia realized it was time to head home. She waved goodbye to her new monkey friend, promising to return for more adventures. With her heart full of wonder and joy, she made her way back, eager to share her magical day with her grandmother.\\n\\n![Mia playing with a monkey by the river](sandbox:/6218117c-4bd1-4461-ab09-8027da944751.png)'\n",
      "source='book_generator_agent' models_usage=RequestUsage(prompt_tokens=1550, completion_tokens=577) content=[FunctionCall(id='call_SJ9GVanifGSiTlKIB2agTpgx', arguments='{\\n  \"sections\": [\\n    {\\n      \"title\": \"The Magical Amazon Adventure\",\\n      \"content\": \"Once upon a time, in a vibrant town nestled near the Amazon rainforest, lived a curious little girl named Mia. Mia loved nature and was fascinated by the stories her grandmother told her about the wonders of the Amazon. One sunny morning, Mia decided to venture into the jungle to see it for herself. Wearing her favourite green hat and a backpack filled with snacks, she set off on her adventure.\\\\n\\\\nAs Mia entered the rainforest, she was greeted by a symphony of sounds - chirping birds, buzzing insects, and rustling leaves. Brightly colored butterflies fluttered around her, dancing like little jewels in the air. “Wow!” Mia exclaimed. “This place is like a treasure chest!”\\\\n\\\\nMia marveled at the towering trees, their trunks thick and twisted. She spotted various creatures peeking out: a toucan with its big beak, a sloth hanging lazily from a branch, and tiny red poison dart frogs hopping along the ground. Each step was an exploration, a discovery waiting to happen!\",\\n      \"image\": \"sandbox:/479e1647-55e5-46e5-b252-a8564193b4b5.png\",\\n      \"level\": \"h1\"\\n    },\\n    {\\n      \"title\": \"The Hidden Wonders\",\\n      \"content\": \"As Mia trekked deeper into the rainforest, she stumbled upon a sparkling river. Glimmering like diamonds, the water swirled around smooth stones. Excitedly, she leaned in for a closer look and gasped at the sight of colorful fish darting beneath the surface. It felt like they were playing hide and seek!\\\\n\\\\nSuddenly, she heard a gentle rustling behind her. Turning around, Mia saw a playful monkey swinging from a vine. “Come play with me!” it chattered, beckoning her to join. Mia laughed and followed the monkey, skipping over roots and dodging branches. They laughed together, discovering secret paths and beautiful flowers that seemed to glow.\\\\n\\\\nAs the sun began to set, painting the sky with shades of orange and pink, Mia realized it was time to head home. She waved goodbye to her new monkey friend, promising to return for more adventures. With her heart full of wonder and joy, she made her way back, eager to share her magical day with her grandmother.\",\\n      \"image\": \"sandbox:/6218117c-4bd1-4461-ab09-8027da944751.png\",\\n      \"level\": \"h1\"\\n    }\\n  ],\\n  \"output_file\": \"amazon_adventure.pdf\",\\n  \"report_title\": \"The Magical Amazon Adventure\"\\n}', name='generate_and_save_pdf_report')]\n",
      "source='book_generator_agent' models_usage=None content=[FunctionExecutionResult(content='amazon_adventure.pdf', call_id='call_SJ9GVanifGSiTlKIB2agTpgx')]\n",
      "source='book_generator_agent' models_usage=RequestUsage(prompt_tokens=2029, completion_tokens=35) content='The children\\'s story, \"The Magical Amazon Adventure,\" is now successfully generated into a PDF file. You can access it [here](sandbox:/amazon_adventure.pdf).'\n"
     ]
    },
    {
     "name": "stderr",
     "output_type": "stream",
     "text": [
      "Selector selected the previous speaker: book_generator_agent\n"
     ]
    },
    {
     "name": "stdout",
     "output_type": "stream",
     "text": [
      "source='book_generator_agent' models_usage=RequestUsage(prompt_tokens=2188, completion_tokens=4) content='TERMINATE'\n",
      "TaskResult(messages=[TextMessage(source='user', models_usage=None, content=\"Create a 1 page children's story with 2 images and text about the wonders of the amazon rainforest.\"), TextMessage(source='planner_agent', models_usage=RequestUsage(prompt_tokens=121, completion_tokens=611), content=\"{\\n    'title': 'The Magical Amazon Adventure',\\n    'content': 'Once upon a time, in a vibrant town nestled near the Amazon rainforest, lived a curious little girl named Mia. Mia loved nature and was fascinated by the stories her grandmother told her about the wonders of the Amazon. One sunny morning, Mia decided to venture into the jungle to see it for herself. Wearing her favourite green hat and a backpack filled with snacks, she set off on her adventure.\\\\n\\\\nAs Mia entered the rainforest, she was greeted by a symphony of sounds - chirping birds, buzzing insects, and rustling leaves. Brightly colored butterflies fluttered around her, dancing like little jewels in the air. “Wow!” Mia exclaimed. “This place is like a treasure chest!”\\\\n\\\\nMia marveled at the towering trees, their trunks thick and twisted. She spotted various creatures peeking out: a toucan with its big beak, a sloth hanging lazily from a branch, and tiny red poison dart frogs hopping along the ground. Each step was an exploration, a discovery waiting to happen! ',\\n    'image_description': 'Illustration of a lush Amazon rainforest. In the foreground, little Mia wears a green hat and a backpack, with a huge smile as she observes a colorful toucan perched on a branch. The scenery features towering trees, vibrant green leaves, and bright butterflies fluttering. The sky is clear blue, and shafts of sunlight filter through the foliage.'\\n},\\n\\n{\\n    'title': 'The Hidden Wonders',\\n    'content': 'As Mia trekked deeper into the rainforest, she stumbled upon a sparkling river. Glimmering like diamonds, the water swirled around smooth stones. Excitedly, she leaned in for a closer look and gasped at the sight of colorful fish darting beneath the surface. It felt like they were playing hide and seek!\\\\n\\\\nSuddenly, she heard a gentle rustling behind her. Turning around, Mia saw a playful monkey swinging from a vine. “Come play with me!” it chattered, beckoning her to join. Mia laughed and followed the monkey, skipping over roots and dodging branches. They laughed together, discovering secret paths and beautiful flowers that seemed to glow.\\\\n\\\\nAs the sun began to set, painting the sky with shades of orange and pink, Mia realized it was time to head home. She waved goodbye to her new monkey friend, promising to return for more adventures. With her heart full of wonder and joy, she made her way back, eager to share her magical day with her grandmother.',\\n    'image_description': 'Illustration of a clear, sparkling river in the Amazon. Little Mia is laughing and playing with a small, cheeky monkey swinging on a vine. The river is surrounded by lush greenery, colorful flowers, and various fish visible in the water. The sky is vibrant with shades of orange and pink from the sunset, casting a warm glow over the scene, creating a magical atmosphere.' \\n}\"), ToolCallMessage(source='image_generator_agent', models_usage=RequestUsage(prompt_tokens=802, completion_tokens=184), content=[FunctionCall(id='call_tZCrbDAZXHv6fmwxfG44QpZE', arguments='{\"query\": \"A lush Amazon rainforest with a little girl named Mia wearing a green hat and a backpack, smiling as she observes a colorful toucan perched on a branch. The scene includes tall trees, vibrant green leaves, bright butterflies fluttering, and a clear blue sky with sunlight filtering through the foliage.\", \"image_size\": \"1024x1024\"}', name='generate_and_save_images'), FunctionCall(id='call_xYVqplTs1PGsKdDdARch1CLn', arguments='{\"query\": \"A clear sparkling river in the Amazon with a little girl named Mia laughing and playing with a cheeky monkey swinging on a vine. The river is surrounded by lush greenery, colorful flowers, and various fish visible in the water. The sky is vibrant with shades of orange and pink from the sunset, creating a magical atmosphere.\", \"image_size\": \"1024x1024\"}', name='generate_and_save_images')]), ToolCallResultMessage(source='image_generator_agent', models_usage=None, content=[FunctionExecutionResult(content=\"['479e1647-55e5-46e5-b252-a8564193b4b5.png']\", call_id='call_tZCrbDAZXHv6fmwxfG44QpZE'), FunctionExecutionResult(content=\"['6218117c-4bd1-4461-ab09-8027da944751.png']\", call_id='call_xYVqplTs1PGsKdDdARch1CLn')]), TextMessage(source='image_generator_agent', models_usage=RequestUsage(prompt_tokens=1024, completion_tokens=494), content='### The Magical Amazon Adventure\\n\\nOnce upon a time, in a vibrant town nestled near the Amazon rainforest, lived a curious little girl named Mia. Mia loved nature and was fascinated by the stories her grandmother told her about the wonders of the Amazon. One sunny morning, Mia decided to venture into the jungle to see it for herself. Wearing her favourite green hat and a backpack filled with snacks, she set off on her adventure.\\n\\nAs Mia entered the rainforest, she was greeted by a symphony of sounds - chirping birds, buzzing insects, and rustling leaves. Brightly colored butterflies fluttered around her, dancing like little jewels in the air. “Wow!” Mia exclaimed. “This place is like a treasure chest!”\\n\\nMia marveled at the towering trees, their trunks thick and twisted. She spotted various creatures peeking out: a toucan with its big beak, a sloth hanging lazily from a branch, and tiny red poison dart frogs hopping along the ground. Each step was an exploration, a discovery waiting to happen!\\n\\n![Mia observing a toucan in the rainforest](sandbox:/479e1647-55e5-46e5-b252-a8564193b4b5.png)\\n\\n---\\n\\n### The Hidden Wonders\\n\\nAs Mia trekked deeper into the rainforest, she stumbled upon a sparkling river. Glimmering like diamonds, the water swirled around smooth stones. Excitedly, she leaned in for a closer look and gasped at the sight of colorful fish darting beneath the surface. It felt like they were playing hide and seek!\\n\\nSuddenly, she heard a gentle rustling behind her. Turning around, Mia saw a playful monkey swinging from a vine. “Come play with me!” it chattered, beckoning her to join. Mia laughed and followed the monkey, skipping over roots and dodging branches. They laughed together, discovering secret paths and beautiful flowers that seemed to glow.\\n\\nAs the sun began to set, painting the sky with shades of orange and pink, Mia realized it was time to head home. She waved goodbye to her new monkey friend, promising to return for more adventures. With her heart full of wonder and joy, she made her way back, eager to share her magical day with her grandmother.\\n\\n![Mia playing with a monkey by the river](sandbox:/6218117c-4bd1-4461-ab09-8027da944751.png)'), ToolCallMessage(source='book_generator_agent', models_usage=RequestUsage(prompt_tokens=1550, completion_tokens=577), content=[FunctionCall(id='call_SJ9GVanifGSiTlKIB2agTpgx', arguments='{\\n  \"sections\": [\\n    {\\n      \"title\": \"The Magical Amazon Adventure\",\\n      \"content\": \"Once upon a time, in a vibrant town nestled near the Amazon rainforest, lived a curious little girl named Mia. Mia loved nature and was fascinated by the stories her grandmother told her about the wonders of the Amazon. One sunny morning, Mia decided to venture into the jungle to see it for herself. Wearing her favourite green hat and a backpack filled with snacks, she set off on her adventure.\\\\n\\\\nAs Mia entered the rainforest, she was greeted by a symphony of sounds - chirping birds, buzzing insects, and rustling leaves. Brightly colored butterflies fluttered around her, dancing like little jewels in the air. “Wow!” Mia exclaimed. “This place is like a treasure chest!”\\\\n\\\\nMia marveled at the towering trees, their trunks thick and twisted. She spotted various creatures peeking out: a toucan with its big beak, a sloth hanging lazily from a branch, and tiny red poison dart frogs hopping along the ground. Each step was an exploration, a discovery waiting to happen!\",\\n      \"image\": \"sandbox:/479e1647-55e5-46e5-b252-a8564193b4b5.png\",\\n      \"level\": \"h1\"\\n    },\\n    {\\n      \"title\": \"The Hidden Wonders\",\\n      \"content\": \"As Mia trekked deeper into the rainforest, she stumbled upon a sparkling river. Glimmering like diamonds, the water swirled around smooth stones. Excitedly, she leaned in for a closer look and gasped at the sight of colorful fish darting beneath the surface. It felt like they were playing hide and seek!\\\\n\\\\nSuddenly, she heard a gentle rustling behind her. Turning around, Mia saw a playful monkey swinging from a vine. “Come play with me!” it chattered, beckoning her to join. Mia laughed and followed the monkey, skipping over roots and dodging branches. They laughed together, discovering secret paths and beautiful flowers that seemed to glow.\\\\n\\\\nAs the sun began to set, painting the sky with shades of orange and pink, Mia realized it was time to head home. She waved goodbye to her new monkey friend, promising to return for more adventures. With her heart full of wonder and joy, she made her way back, eager to share her magical day with her grandmother.\",\\n      \"image\": \"sandbox:/6218117c-4bd1-4461-ab09-8027da944751.png\",\\n      \"level\": \"h1\"\\n    }\\n  ],\\n  \"output_file\": \"amazon_adventure.pdf\",\\n  \"report_title\": \"The Magical Amazon Adventure\"\\n}', name='generate_and_save_pdf_report')]), ToolCallResultMessage(source='book_generator_agent', models_usage=None, content=[FunctionExecutionResult(content='amazon_adventure.pdf', call_id='call_SJ9GVanifGSiTlKIB2agTpgx')]), TextMessage(source='book_generator_agent', models_usage=RequestUsage(prompt_tokens=2029, completion_tokens=35), content='The children\\'s story, \"The Magical Amazon Adventure,\" is now successfully generated into a PDF file. You can access it [here](sandbox:/amazon_adventure.pdf).'), TextMessage(source='book_generator_agent', models_usage=RequestUsage(prompt_tokens=2188, completion_tokens=4), content='TERMINATE')], stop_reason=\"Text 'TERMINATE' mentioned\")\n"
     ]
    }
   ],
   "source": [
    "\n",
    "async for response in book_result:\n",
    "    print(response)"
   ]
  },
  {
   "cell_type": "code",
   "execution_count": 40,
   "metadata": {},
   "outputs": [],
   "source": [
    "sections = [\n",
    "    {\n",
    "        \"title\": \"Introduction - Early Life\",\n",
    "        \"level\": \"h1\",\n",
    "        \"image\": \"https://picsum.photos/536/354\",\n",
    "        \"content\": (\"Marie Curie was born on 7 November 1867 in Warsaw, Poland. \"\n",
    "                    \"She was the youngest of five children. Both of her parents were teachers. \"\n",
    "                    \"Her father was a math and physics instructor, and her mother was the head of a private school. \"\n",
    "                    \"Marie's curiosity and brilliance were evident from an early age.\"),\n",
    "    }]"
   ]
  },
  {
   "cell_type": "code",
   "execution_count": null,
   "metadata": {},
   "outputs": [],
   "source": []
  },
  {
   "cell_type": "code",
   "execution_count": null,
   "metadata": {},
   "outputs": [],
   "source": []
  }
 ],
 "metadata": {
  "kernelspec": {
   "display_name": "autog",
   "language": "python",
   "name": "python3"
  },
  "language_info": {
   "codemirror_mode": {
    "name": "ipython",
    "version": 3
   },
   "file_extension": ".py",
   "mimetype": "text/x-python",
   "name": "python",
   "nbconvert_exporter": "python",
   "pygments_lexer": "ipython3",
   "version": "3.10.13"
  }
 },
 "nbformat": 4,
 "nbformat_minor": 2
}
