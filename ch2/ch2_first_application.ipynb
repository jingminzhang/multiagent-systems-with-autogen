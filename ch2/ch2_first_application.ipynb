{
 "cells": [
  {
   "cell_type": "markdown",
   "metadata": {},
   "source": [
    "## Building Your First Multi-Agent AI App with AutoGen\n",
    "\n",
    "<a target=\"_blank\" href=\"https://colab.research.google.com/github/designingwithml/blogposts/blob/main/notebooks/autogen_introduction.ipynb\">\n",
    "  <img src=\"https://colab.research.google.com/assets/colab-badge.svg\" alt=\"Open In Colab\"/>\n",
    "</a>\n",
    "\n",
    "\n",
    "Multi-agent AI apps (a setup where multiple agents powered by GenAI models collaborate autonomously) hold promise in addressing complex tasks. In this notebook, the goal is to explore how we might build an agent workflow that can address multiple tasks.  "
   ]
  },
  {
   "cell_type": "markdown",
   "metadata": {},
   "source": [
    "## LLM Configuration Specification \n",
    "\n",
    "AutoGen agents take an `llm_config` argument that specifies the LLM configuration for an Agent. \n",
    "Importantly, AutoGen standardizes on the openai api format for specifying an LLM. This means the openai and azure openai api are supported out of the box. For Azure Open AI models, the `base_url` and `api_version`  and `api_type` fields are required.\n",
    "\n",
    "- model: The name of the model \n",
    "- api_key: The API key to use.\n",
    "- base_url: The base URL of the LLM api \n",
    "- api_version:  The version of the LLM api (Azure Open AI only)\n",
    "- api_type: The type of LLM api (Azure Open AI only)\n"
   ]
  },
  {
   "cell_type": "code",
   "execution_count": 1,
   "metadata": {},
   "outputs": [],
   "source": [
    "import os\n",
    "llm_config = {\"config_list\": [{\n",
    "        \"model\": \"gpt-4-turbo-preview\",\n",
    "        \"api_key\": os.environ[\"OPENAI_API_KEY\"],  # Note, add your own API key here\n",
    "    }],\n",
    "    \"temperature\": 0.9, \n",
    "    \"cache_seed\": 41,\n",
    "}"
   ]
  },
  {
   "cell_type": "markdown",
   "metadata": {},
   "source": [
    "## Defining a Basic Agent Workflow with Two Agents \n",
    "\n",
    "In the following section we will define an agent workflow with only two agents. So what is the orchestation behavior i.e. how the agents interact or decide when to act? Well, this is fairly simple as they will reply to each others messages until the task is completed."
   ]
  },
  {
   "cell_type": "code",
   "execution_count": 2,
   "metadata": {},
   "outputs": [
    {
     "name": "stdout",
     "output_type": "stream",
     "text": [
      "\u001b[33muser_proxy\u001b[0m (to assistant):\n",
      "\n",
      "Plot a chart of NVDA and TESLA stock price change YTD. Save the result to a file named chart.png.\n",
      "\n",
      "--------------------------------------------------------------------------------\n",
      "\u001b[33massistant\u001b[0m (to user_proxy):\n",
      "\n",
      "To plot a chart of NVIDIA (NVDA) and Tesla (TSLA) stock price changes year-to-date (YTD), we will follow these steps:\n",
      "\n",
      "1. **Collect stock data:** Use an API or a Python library that provides access to stock market data. For this purpose, `yfinance` is a popular choice as it allows us to fetch historical market data from Yahoo Finance.\n",
      "2. **Extract YTD data:** Filter the data to only include information from the start of the current year to the present date.\n",
      "3. **Plot the chart:** Use a plotting library, such as `matplotlib`, to create a chart visualizing the stock price changes of NVDA and TSLA YTD.\n",
      "4. **Save the chart:** Save the resulting plot to a file named `chart.png`.\n",
      "\n",
      "Before we proceed, ensure that `yfinance` and `matplotlib` are installed in your Python environment. If they are not installed, you can install them using pip:\n",
      "\n",
      "```sh\n",
      "pip install yfinance matplotlib\n",
      "```\n",
      "\n",
      "Next, I'll provide the Python code to achieve the task. Please run the following Python code:\n",
      "\n",
      "```python\n",
      "# filename: plot_stock_prices.py\n",
      "import yfinance as yf\n",
      "import matplotlib.pyplot as plt\n",
      "import pandas as pd\n",
      "from datetime import datetime\n",
      "\n",
      "# Current year start\n",
      "start_date = datetime(datetime.now().year, 1, 1)\n",
      "\n",
      "# End date\n",
      "end_date = datetime.now()\n",
      "\n",
      "# Fetch YTD stock data for NVDA and TSLA\n",
      "nvda_data = yf.download('NVDA', start=start_date, end=end_date)\n",
      "tsla_data = yf.download('TSLA', start=start_date, end=end_date)\n",
      "\n",
      "# Create a new figure for plotting\n",
      "plt.figure(figsize=(14, 7))\n",
      "\n",
      "# Plot NVDA closing prices\n",
      "plt.plot(nvda_data.index, nvda_data['Close'], label='NVDA')\n",
      "\n",
      "# Plot TSLA closing prices\n",
      "plt.plot(tsla_data.index, tsla_data['Close'], label='TSLA')\n",
      "\n",
      "# Title and labels\n",
      "plt.title('NVDA and TSLA Stock Price Change YTD')\n",
      "plt.ylabel('Price (USD)')\n",
      "plt.xlabel('Date')\n",
      "plt.legend()\n",
      "\n",
      "# Grid for better readability\n",
      "plt.grid(True)\n",
      "\n",
      "# Save the chart to a file\n",
      "plt.savefig('chart.png')\n",
      "\n",
      "# Optional: Display the plot in a window (comment out if not needed)\n",
      "# plt.show()\n",
      "```\n",
      "\n",
      "This code will save the YTD stock price change chart for NVDA and TSLA to a file named `chart.png` in the current directory. If you wish to view the plot directly, you can uncomment the `plt.show()` line at the end of the script.\n",
      "\n",
      "--------------------------------------------------------------------------------\n",
      "\u001b[31m\n",
      ">>>>>>>> EXECUTING CODE BLOCK 0 (inferred language is sh)...\u001b[0m\n"
     ]
    },
    {
     "name": "stderr",
     "output_type": "stream",
     "text": [
      "/opt/homebrew/Caskroom/miniconda/base/envs/autog/lib/python3.10/site-packages/tqdm/auto.py:21: TqdmWarning: IProgress not found. Please update jupyter and ipywidgets. See https://ipywidgets.readthedocs.io/en/stable/user_install.html\n",
      "  from .autonotebook import tqdm as notebook_tqdm\n"
     ]
    },
    {
     "name": "stdout",
     "output_type": "stream",
     "text": [
      "\u001b[31m\n",
      ">>>>>>>> EXECUTING CODE BLOCK 1 (inferred language is python)...\u001b[0m\n",
      "\u001b[33muser_proxy\u001b[0m (to assistant):\n",
      "\n",
      "exitcode: 0 (execution succeeded)\n",
      "Code output: \n",
      "Requirement already satisfied: yfinance in /opt/homebrew/Caskroom/miniconda/base/envs/autog/lib/python3.10/site-packages (0.2.37)\n",
      "Requirement already satisfied: matplotlib in /opt/homebrew/Caskroom/miniconda/base/envs/autog/lib/python3.10/site-packages (3.8.3)\n",
      "Requirement already satisfied: pandas>=1.3.0 in /opt/homebrew/Caskroom/miniconda/base/envs/autog/lib/python3.10/site-packages (from yfinance) (2.2.1)\n",
      "Requirement already satisfied: numpy>=1.16.5 in /opt/homebrew/Caskroom/miniconda/base/envs/autog/lib/python3.10/site-packages (from yfinance) (1.26.4)\n",
      "Requirement already satisfied: requests>=2.31 in /opt/homebrew/Caskroom/miniconda/base/envs/autog/lib/python3.10/site-packages (from yfinance) (2.31.0)\n",
      "Requirement already satisfied: multitasking>=0.0.7 in /opt/homebrew/Caskroom/miniconda/base/envs/autog/lib/python3.10/site-packages (from yfinance) (0.0.11)\n",
      "Requirement already satisfied: lxml>=4.9.1 in /opt/homebrew/Caskroom/miniconda/base/envs/autog/lib/python3.10/site-packages (from yfinance) (5.1.0)\n",
      "Requirement already satisfied: appdirs>=1.4.4 in /opt/homebrew/Caskroom/miniconda/base/envs/autog/lib/python3.10/site-packages (from yfinance) (1.4.4)\n",
      "Requirement already satisfied: pytz>=2022.5 in /opt/homebrew/Caskroom/miniconda/base/envs/autog/lib/python3.10/site-packages (from yfinance) (2024.1)\n",
      "Requirement already satisfied: frozendict>=2.3.4 in /opt/homebrew/Caskroom/miniconda/base/envs/autog/lib/python3.10/site-packages (from yfinance) (2.4.0)\n",
      "Requirement already satisfied: peewee>=3.16.2 in /opt/homebrew/Caskroom/miniconda/base/envs/autog/lib/python3.10/site-packages (from yfinance) (3.17.1)\n",
      "Requirement already satisfied: beautifulsoup4>=4.11.1 in /opt/homebrew/Caskroom/miniconda/base/envs/autog/lib/python3.10/site-packages (from yfinance) (4.12.3)\n",
      "Requirement already satisfied: html5lib>=1.1 in /opt/homebrew/Caskroom/miniconda/base/envs/autog/lib/python3.10/site-packages (from yfinance) (1.1)\n",
      "Requirement already satisfied: contourpy>=1.0.1 in /opt/homebrew/Caskroom/miniconda/base/envs/autog/lib/python3.10/site-packages (from matplotlib) (1.2.0)\n",
      "Requirement already satisfied: cycler>=0.10 in /opt/homebrew/Caskroom/miniconda/base/envs/autog/lib/python3.10/site-packages (from matplotlib) (0.12.1)\n",
      "Requirement already satisfied: fonttools>=4.22.0 in /opt/homebrew/Caskroom/miniconda/base/envs/autog/lib/python3.10/site-packages (from matplotlib) (4.50.0)\n",
      "Requirement already satisfied: kiwisolver>=1.3.1 in /opt/homebrew/Caskroom/miniconda/base/envs/autog/lib/python3.10/site-packages (from matplotlib) (1.4.5)\n",
      "Requirement already satisfied: packaging>=20.0 in /opt/homebrew/Caskroom/miniconda/base/envs/autog/lib/python3.10/site-packages (from matplotlib) (24.0)\n",
      "Requirement already satisfied: pillow>=8 in /opt/homebrew/Caskroom/miniconda/base/envs/autog/lib/python3.10/site-packages (from matplotlib) (10.2.0)\n",
      "Requirement already satisfied: pyparsing>=2.3.1 in /opt/homebrew/Caskroom/miniconda/base/envs/autog/lib/python3.10/site-packages (from matplotlib) (3.1.2)\n",
      "Requirement already satisfied: python-dateutil>=2.7 in /opt/homebrew/Caskroom/miniconda/base/envs/autog/lib/python3.10/site-packages (from matplotlib) (2.9.0)\n",
      "Requirement already satisfied: soupsieve>1.2 in /opt/homebrew/Caskroom/miniconda/base/envs/autog/lib/python3.10/site-packages (from beautifulsoup4>=4.11.1->yfinance) (2.5)\n",
      "Requirement already satisfied: six>=1.9 in /opt/homebrew/Caskroom/miniconda/base/envs/autog/lib/python3.10/site-packages (from html5lib>=1.1->yfinance) (1.16.0)\n",
      "Requirement already satisfied: webencodings in /opt/homebrew/Caskroom/miniconda/base/envs/autog/lib/python3.10/site-packages (from html5lib>=1.1->yfinance) (0.5.1)\n",
      "Requirement already satisfied: tzdata>=2022.7 in /opt/homebrew/Caskroom/miniconda/base/envs/autog/lib/python3.10/site-packages (from pandas>=1.3.0->yfinance) (2024.1)\n",
      "Requirement already satisfied: charset-normalizer<4,>=2 in /opt/homebrew/Caskroom/miniconda/base/envs/autog/lib/python3.10/site-packages (from requests>=2.31->yfinance) (3.3.2)\n",
      "Requirement already satisfied: idna<4,>=2.5 in /opt/homebrew/Caskroom/miniconda/base/envs/autog/lib/python3.10/site-packages (from requests>=2.31->yfinance) (3.6)\n",
      "Requirement already satisfied: urllib3<3,>=1.21.1 in /opt/homebrew/Caskroom/miniconda/base/envs/autog/lib/python3.10/site-packages (from requests>=2.31->yfinance) (2.2.1)\n",
      "Requirement already satisfied: certifi>=2017.4.17 in /opt/homebrew/Caskroom/miniconda/base/envs/autog/lib/python3.10/site-packages (from requests>=2.31->yfinance) (2024.2.2)\n",
      "\n",
      "\n",
      "\n",
      "--------------------------------------------------------------------------------\n",
      "\u001b[33massistant\u001b[0m (to user_proxy):\n",
      "\n",
      "The necessary libraries (`yfinance` and `matplotlib`) are successfully installed in your environment, and any required dependencies have been updated or confirmed to be present. \n",
      "\n",
      "At this stage, you should execute the provided Python script to plot the YTD stock price changes for NVDA and TSLA and save it to `chart.png`. Since it seems you have already run the command to install the necessary packages, you can now proceed to run the script that generates the chart.\n",
      "\n",
      "Please ensure to run the previously provided Python script named `plot_stock_prices.py` in your environment. This script will fetch the year-to-date stock prices for NVIDIA and Tesla, plot them, and save the chart as `chart.png` in the current directory.\n",
      "\n",
      "If the script has been run and worked as intended, you should find `chart.png` in your current directory, which contains the plotted chart of NVDA and TSLA stock price changes YTD.\n",
      "\n",
      "TERMINATE\n",
      "\n",
      "--------------------------------------------------------------------------------\n"
     ]
    }
   ],
   "source": [
    "from autogen import AssistantAgent, UserProxyAgent \n",
    "\n",
    "assistant = AssistantAgent(\n",
    "    name= \"assistant\", llm_config=llm_config)\n",
    "user_proxy = UserProxyAgent(\n",
    "    name = \"user_proxy\", \n",
    "    code_execution_config={\"work_dir\": \n",
    "                           \"data/scratch\", \n",
    "                           \"use_docker\": False},\n",
    "    human_input_mode=\"NEVER\",\n",
    "    is_termination_msg = lambda x: x.get(\"content\", \"\").rstrip().endswith(\"TERMINATE\") if x.get(\"content\") else False \n",
    "    )  \n",
    "\n",
    "chatresults = user_proxy.initiate_chat(assistant, message=\"Plot a chart of NVDA and TESLA stock price change YTD. Save the result to a file named chart.png.\") "
   ]
  },
  {
   "cell_type": "markdown",
   "metadata": {},
   "source": [
    "## Tool Calling \n",
    "\n",
    "In this section we will review the importance of tools. Consider a scenario where our agent workflow needs to generate images. Let's see how they fare. "
   ]
  },
  {
   "cell_type": "code",
   "execution_count": 5,
   "metadata": {},
   "outputs": [
    {
     "name": "stdout",
     "output_type": "stream",
     "text": [
      "\u001b[33muser_proxy\u001b[0m (to assistant):\n",
      "\n",
      "paint a beautiful picture of a cat and a dog playing together.\n",
      "\n",
      "--------------------------------------------------------------------------------\n",
      "\u001b[33massistant\u001b[0m (to user_proxy):\n",
      "\n",
      "I can help you create a simple \"painting\" of a cat and a dog playing together using Python code with ASCII art. This won't be a traditional painting but a creative representation using characters. Let's do it step by step.\n",
      "\n",
      "First, we will create a simple ASCII art of a cat and a dog playing together. Bear in mind that ASCII art is quite limited in detail, so \"beautiful\" is subjective and this will be a basic representation. \n",
      "\n",
      "```python\n",
      "# filename: cat_and_dog_playing.py\n",
      "\n",
      "# Cat and Dog Playing Together in ASCII Art\n",
      "\n",
      "print(\"\"\"\n",
      "    /\\_/\\  \n",
      "   ( o.o ) > What a beautiful day to play!\n",
      "    > ^ <                           /    \n",
      "         ______                    /     \n",
      "    _/|_||_||_\\__               \\|/      \n",
      "   /___n_n___\\                  (o o)    \n",
      "    /       \\__                -(\")-    \n",
      "   /| |     || |\\                 U     \n",
      "_| | |     || | |_\n",
      "\"\"\")\n",
      "\n",
      "```\n",
      "\n",
      "Please save this Python code in a file named `cat_and_dog_playing.py` and run it. This code will print a simple representation of a cat and a dog playing together using ASCII characters. \n",
      "\n",
      "To execute this, you need Python installed on your machine. Open your terminal (or command prompt), navigate to the directory where you saved `cat_and_dog_playing.py`, and run it with the command:\n",
      "```sh\n",
      "python cat_and_dog_playing.py\n",
      "```\n",
      "\n",
      "--------------------------------------------------------------------------------\n",
      "\u001b[31m\n",
      ">>>>>>>> EXECUTING CODE BLOCK 0 (inferred language is python)...\u001b[0m\n",
      "\u001b[31m\n",
      ">>>>>>>> EXECUTING CODE BLOCK 1 (inferred language is sh)...\u001b[0m\n",
      "\u001b[33muser_proxy\u001b[0m (to assistant):\n",
      "\n",
      "exitcode: 0 (execution succeeded)\n",
      "Code output: \n",
      "\n",
      "    /\\_/\\  \n",
      "   ( o.o ) > What a beautiful day to play!\n",
      "    > ^ <                           /    \n",
      "         ______                    /     \n",
      "    _/|_||_||_\\__               \\|/      \n",
      "   /___n_n___\\                  (o o)    \n",
      "    /       \\__                -(\")-    \n",
      "   /| |     || |\\                 U     \n",
      "_| | |     || | |_\n",
      "\n",
      "\n",
      "\n",
      "    /\\_/\\  \n",
      "   ( o.o ) > What a beautiful day to play!\n",
      "    > ^ <                           /    \n",
      "         ______                    /     \n",
      "    _/|_||_||_\\__               \\|/      \n",
      "   /___n_n___\\                  (o o)    \n",
      "    /       \\__                -(\")-    \n",
      "   /| |     || |\\                 U     \n",
      "_| | |     || | |_\n",
      "\n",
      "\n",
      "\n",
      "--------------------------------------------------------------------------------\n",
      "\u001b[33massistant\u001b[0m (to user_proxy):\n",
      "\n",
      "Great! You successfully executed the Python script, and it printed our simple ASCII art of a cat and a dog playing together. Though simple, this representation captures a playful scene between two beloved pets. ASCII art has its charm by conveying images through characters, offering a creative and text-based way to \"paint\" pictures.\n",
      "\n",
      "If you have any more tasks or need further assistance, feel free to ask. Otherwise, I hope you enjoyed this small creative project! \n",
      "\n",
      "TERMINATE\n",
      "\n",
      "--------------------------------------------------------------------------------\n"
     ]
    },
    {
     "data": {
      "text/plain": [
       "ChatResult(chat_id=None, chat_history=[{'content': 'paint a beautiful picture of a cat and a dog playing together.', 'role': 'assistant'}, {'content': 'I can help you create a simple \"painting\" of a cat and a dog playing together using Python code with ASCII art. This won\\'t be a traditional painting but a creative representation using characters. Let\\'s do it step by step.\\n\\nFirst, we will create a simple ASCII art of a cat and a dog playing together. Bear in mind that ASCII art is quite limited in detail, so \"beautiful\" is subjective and this will be a basic representation. \\n\\n```python\\n# filename: cat_and_dog_playing.py\\n\\n# Cat and Dog Playing Together in ASCII Art\\n\\nprint(\"\"\"\\n    /\\\\_/\\\\  \\n   ( o.o ) > What a beautiful day to play!\\n    > ^ <                           /    \\n         ______                    /     \\n    _/|_||_||_\\\\__               \\\\|/      \\n   /___n_n___\\\\                  (o o)    \\n    /       \\\\__                -(\")-    \\n   /| |     || |\\\\                 U     \\n_| | |     || | |_\\n\"\"\")\\n\\n```\\n\\nPlease save this Python code in a file named `cat_and_dog_playing.py` and run it. This code will print a simple representation of a cat and a dog playing together using ASCII characters. \\n\\nTo execute this, you need Python installed on your machine. Open your terminal (or command prompt), navigate to the directory where you saved `cat_and_dog_playing.py`, and run it with the command:\\n```sh\\npython cat_and_dog_playing.py\\n```', 'role': 'user'}, {'content': 'exitcode: 0 (execution succeeded)\\nCode output: \\n\\n    /\\\\_/\\\\  \\n   ( o.o ) > What a beautiful day to play!\\n    > ^ <                           /    \\n         ______                    /     \\n    _/|_||_||_\\\\__               \\\\|/      \\n   /___n_n___\\\\                  (o o)    \\n    /       \\\\__                -(\")-    \\n   /| |     || |\\\\                 U     \\n_| | |     || | |_\\n\\n\\n\\n    /\\\\_/\\\\  \\n   ( o.o ) > What a beautiful day to play!\\n    > ^ <                           /    \\n         ______                    /     \\n    _/|_||_||_\\\\__               \\\\|/      \\n   /___n_n___\\\\                  (o o)    \\n    /       \\\\__                -(\")-    \\n   /| |     || |\\\\                 U     \\n_| | |     || | |_\\n\\n', 'role': 'assistant'}, {'content': 'Great! You successfully executed the Python script, and it printed our simple ASCII art of a cat and a dog playing together. Though simple, this representation captures a playful scene between two beloved pets. ASCII art has its charm by conveying images through characters, offering a creative and text-based way to \"paint\" pictures.\\n\\nIf you have any more tasks or need further assistance, feel free to ask. Otherwise, I hope you enjoyed this small creative project! \\n\\nTERMINATE', 'role': 'user'}], summary='Great! You successfully executed the Python script, and it printed our simple ASCII art of a cat and a dog playing together. Though simple, this representation captures a playful scene between two beloved pets. ASCII art has its charm by conveying images through characters, offering a creative and text-based way to \"paint\" pictures.\\n\\nIf you have any more tasks or need further assistance, feel free to ask. Otherwise, I hope you enjoyed this small creative project! \\n\\n', cost={'usage_including_cached_inference': {'total_cost': 0.25031000000000003, 'gpt-4-0125-preview': {'cost': 0.25031000000000003, 'prompt_tokens': 16865, 'completion_tokens': 2722, 'total_tokens': 19587}}, 'usage_excluding_cached_inference': {'total_cost': 0.18083000000000002, 'gpt-4-0125-preview': {'cost': 0.18083000000000002, 'prompt_tokens': 13421, 'completion_tokens': 1554, 'total_tokens': 14975}}}, human_input=[])"
      ]
     },
     "execution_count": 5,
     "metadata": {},
     "output_type": "execute_result"
    }
   ],
   "source": [
    "user_proxy.initiate_chat(assistant, message=\"paint a beautiful picture of a cat and a dog playing together.\")"
   ]
  },
  {
   "cell_type": "markdown",
   "metadata": {},
   "source": [
    "Above, the agents do not fare particularly well. They take a simple approach and generate ascii art images. Depending on how this specific task is framed, the agents could explore even more problemative approaches - e.g., attempting to install random image generation libraries, assuming the availability of a GPU, might hallucinate methods in libraries, encounter multiple errors, retries etc. All very inefficient.\n",
    "\n",
    "In cases like the above, where we have a specific approach to solving the task, we can provide the agents with tools that encode our approach."
   ]
  },
  {
   "cell_type": "code",
   "execution_count": 6,
   "metadata": {},
   "outputs": [],
   "source": [
    "from typing import List\n",
    "import uuid\n",
    "import requests\n",
    "from pathlib import Path\n",
    "from openai import OpenAI\n",
    "\n",
    "def generate_and_save_images(query: str, image_size: str = \"1024x1024\") -> List[str]:\n",
    "    client = OpenAI()\n",
    "    response = client.images.generate(model=\"dall-e-3\", prompt=query, n=1, size=image_size)\n",
    "    saved_files = []\n",
    "    if response.data:\n",
    "        for image_data in response.data:\n",
    "            file_name = str(uuid.uuid4()) + \".png\" \n",
    "            file_path = Path(\"data\") / file_name\n",
    "            img_url = image_data.url\n",
    "            img_response = requests.get(img_url)\n",
    "            if img_response.status_code == 200:\n",
    "                with open(file_path, \"wb\") as img_file:\n",
    "                    img_file.write(img_response.content)\n",
    "                    saved_files.append(str(file_path))\n",
    "                    print(f\"Image generated and saved to {file_path}\")\n",
    "    return saved_files "
   ]
  },
  {
   "cell_type": "code",
   "execution_count": 7,
   "metadata": {},
   "outputs": [],
   "source": [
    "\n",
    "from autogen import register_function\n",
    "register_function(\n",
    "    generate_and_save_images,\n",
    "    caller=assistant,  # The assistant agent can suggest calls to the  function\n",
    "    executor=user_proxy,  # The user proxy agent can execute the function call.\n",
    "    name=\"generate_and_save_images\",  # By default, the function name is used as the tool name.\n",
    "    description=\"Generate images using DALL-E\",\n",
    ")"
   ]
  },
  {
   "cell_type": "code",
   "execution_count": 9,
   "metadata": {},
   "outputs": [
    {
     "name": "stdout",
     "output_type": "stream",
     "text": [
      "\u001b[33muser_proxy\u001b[0m (to assistant):\n",
      "\n",
      "paint a beautiful picture of a cat and a dog playing together.\n",
      "\n",
      "--------------------------------------------------------------------------------\n"
     ]
    },
    {
     "name": "stdout",
     "output_type": "stream",
     "text": [
      "\u001b[33massistant\u001b[0m (to user_proxy):\n",
      "\n",
      "\u001b[32m***** Suggested tool call (call_bSDUgG9khJB15diBTZDsKdDe): generate_and_save_images *****\u001b[0m\n",
      "Arguments: \n",
      "{\"query\":\"a cat and a dog playing together, beautiful\"}\n",
      "\u001b[32m*****************************************************************************************\u001b[0m\n",
      "\n",
      "--------------------------------------------------------------------------------\n",
      "\u001b[35m\n",
      ">>>>>>>> EXECUTING FUNCTION generate_and_save_images...\u001b[0m\n",
      "Image generated and saved to data/8fcf212f-7119-48ca-b0b8-302932fdf3fb.png\n",
      "\u001b[33muser_proxy\u001b[0m (to assistant):\n",
      "\n",
      "\u001b[33muser_proxy\u001b[0m (to assistant):\n",
      "\n",
      "\u001b[32m***** Response from calling tool (call_bSDUgG9khJB15diBTZDsKdDe) *****\u001b[0m\n",
      "[\"data/8fcf212f-7119-48ca-b0b8-302932fdf3fb.png\"]\n",
      "\u001b[32m**********************************************************************\u001b[0m\n",
      "\n",
      "--------------------------------------------------------------------------------\n",
      "\u001b[33massistant\u001b[0m (to user_proxy):\n",
      "\n",
      "I've created a beautiful picture of a cat and a dog playing together. You can view the picture by following the link below:\n",
      "\n",
      "[View Picture](sandbox:/data/8fcf212f-7119-48ca-b0b8-302932fdf3fb.png)\n",
      "\n",
      "TERMINATE\n",
      "\n",
      "--------------------------------------------------------------------------------\n"
     ]
    },
    {
     "data": {
      "text/plain": [
       "ChatResult(chat_id=None, chat_history=[{'content': 'paint a beautiful picture of a cat and a dog playing together.', 'role': 'assistant'}, {'tool_calls': [{'id': 'call_bSDUgG9khJB15diBTZDsKdDe', 'function': {'arguments': '{\"query\":\"a cat and a dog playing together, beautiful\"}', 'name': 'generate_and_save_images'}, 'type': 'function'}], 'content': None, 'role': 'assistant'}, {'content': '[\"data/8fcf212f-7119-48ca-b0b8-302932fdf3fb.png\"]', 'tool_responses': [{'tool_call_id': 'call_bSDUgG9khJB15diBTZDsKdDe', 'role': 'tool', 'content': '[\"data/8fcf212f-7119-48ca-b0b8-302932fdf3fb.png\"]'}], 'role': 'tool'}, {'content': \"I've created a beautiful picture of a cat and a dog playing together. You can view the picture by following the link below:\\n\\n[View Picture](sandbox:/data/8fcf212f-7119-48ca-b0b8-302932fdf3fb.png)\\n\\nTERMINATE\", 'role': 'user'}], summary=\"I've created a beautiful picture of a cat and a dog playing together. You can view the picture by following the link below:\\n\\n[View Picture](sandbox:/data/8fcf212f-7119-48ca-b0b8-302932fdf3fb.png)\\n\\n\", cost={'usage_including_cached_inference': {'total_cost': 0.02765, 'gpt-4-0125-preview': {'cost': 0.02765, 'prompt_tokens': 2291, 'completion_tokens': 158, 'total_tokens': 2449}}, 'usage_excluding_cached_inference': {'total_cost': 0.02162, 'gpt-4-0125-preview': {'cost': 0.02162, 'prompt_tokens': 1748, 'completion_tokens': 138, 'total_tokens': 1886}}}, human_input=[])"
      ]
     },
     "execution_count": 9,
     "metadata": {},
     "output_type": "execute_result"
    }
   ],
   "source": [
    "user_proxy.initiate_chat(assistant, message=\"paint a beautiful picture of a cat and a dog playing together.\")"
   ]
  },
  {
   "cell_type": "code",
   "execution_count": null,
   "metadata": {},
   "outputs": [],
   "source": []
  }
 ],
 "metadata": {
  "kernelspec": {
   "display_name": "autog",
   "language": "python",
   "name": "python3"
  },
  "language_info": {
   "codemirror_mode": {
    "name": "ipython",
    "version": 3
   },
   "file_extension": ".py",
   "mimetype": "text/x-python",
   "name": "python",
   "nbconvert_exporter": "python",
   "pygments_lexer": "ipython3",
   "version": "3.10.13"
  }
 },
 "nbformat": 4,
 "nbformat_minor": 2
}
