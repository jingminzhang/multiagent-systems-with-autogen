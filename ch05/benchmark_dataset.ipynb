{
 "cells": [
  {
   "cell_type": "markdown",
   "metadata": {},
   "source": [
    "## Loading the Multi-Agent Benchmark Datasets - GAIA, GPQA, SWEBench\n",
    "\n",
    "This notebooks provides an example of how to load and explore several multi-agent benchmark datasets using the huggingface datasets library.  \n",
    "\n"
   ]
  },
  {
   "cell_type": "code",
   "execution_count": 1,
   "metadata": {},
   "outputs": [],
   "source": [
    "# also get your huggingface token from https://huggingface.co/settings/profile and add it to a .env file in the same directory as this script\n",
    "# HF_TOKEN=your_token_here"
   ]
  },
  {
   "cell_type": "code",
   "execution_count": 3,
   "metadata": {},
   "outputs": [],
   "source": [
    "from dotenv import load_dotenv\n",
    "import os\n",
    "import json \n",
    "from datasets import load_dataset\n",
    "import pandas as pd\n",
    "load_dotenv();"
   ]
  },
  {
   "cell_type": "code",
   "execution_count": 4,
   "metadata": {},
   "outputs": [
    {
     "name": "stderr",
     "output_type": "stream",
     "text": [
      "Using the latest cached version of the dataset since gaia-benchmark/GAIA couldn't be found on the Hugging Face Hub\n",
      "Found the latest cached dataset configuration '2023_all' at /Users/victordibia/.cache/huggingface/datasets/gaia-benchmark___gaia/2023_all/0.0.1/06dfd28455b4bb0ee76378b97adc2c70aa43b701 (last modified on Mon Jul 15 09:22:30 2024).\n"
     ]
    },
    {
     "name": "stdout",
     "output_type": "stream",
     "text": [
      "Test shape:  (301, 7)\n",
      "Val shape:  (165, 7)\n"
     ]
    },
    {
     "data": {
      "text/html": [
       "<div>\n",
       "<style scoped>\n",
       "    .dataframe tbody tr th:only-of-type {\n",
       "        vertical-align: middle;\n",
       "    }\n",
       "\n",
       "    .dataframe tbody tr th {\n",
       "        vertical-align: top;\n",
       "    }\n",
       "\n",
       "    .dataframe thead th {\n",
       "        text-align: right;\n",
       "    }\n",
       "</style>\n",
       "<table border=\"1\" class=\"dataframe\">\n",
       "  <thead>\n",
       "    <tr style=\"text-align: right;\">\n",
       "      <th></th>\n",
       "      <th>task_id</th>\n",
       "      <th>Question</th>\n",
       "      <th>Level</th>\n",
       "      <th>Final answer</th>\n",
       "      <th>file_name</th>\n",
       "      <th>file_path</th>\n",
       "      <th>Annotator Metadata</th>\n",
       "      <th>num_steps</th>\n",
       "      <th>num_tools</th>\n",
       "      <th>duration</th>\n",
       "      <th>tools</th>\n",
       "    </tr>\n",
       "  </thead>\n",
       "  <tbody>\n",
       "    <tr>\n",
       "      <th>0</th>\n",
       "      <td>c61d22de-5f6c-4958-a7f6-5e9707bd3466</td>\n",
       "      <td>A paper about AI regulation that was originall...</td>\n",
       "      <td>2</td>\n",
       "      <td>egalitarian</td>\n",
       "      <td></td>\n",
       "      <td></td>\n",
       "      <td>{'Steps': '1. Go to arxiv.org and navigate to ...</td>\n",
       "      <td>12</td>\n",
       "      <td>2</td>\n",
       "      <td>8</td>\n",
       "      <td>1. Web browser\\n2. Image recognition tools (to...</td>\n",
       "    </tr>\n",
       "    <tr>\n",
       "      <th>1</th>\n",
       "      <td>17b5a6a3-bc87-42e8-b0fb-6ab0781ef2cc</td>\n",
       "      <td>I’m researching species that became invasive a...</td>\n",
       "      <td>2</td>\n",
       "      <td>34689</td>\n",
       "      <td></td>\n",
       "      <td></td>\n",
       "      <td>{'Steps': '1. Search the web for “finding nemo...</td>\n",
       "      <td>10</td>\n",
       "      <td>2</td>\n",
       "      <td>5</td>\n",
       "      <td>1. Search engine\\n2. Web browser</td>\n",
       "    </tr>\n",
       "    <tr>\n",
       "      <th>2</th>\n",
       "      <td>04a04a9b-226c-43fd-b319-d5e89743676f</td>\n",
       "      <td>If we assume all articles published by Nature ...</td>\n",
       "      <td>2</td>\n",
       "      <td>41</td>\n",
       "      <td></td>\n",
       "      <td></td>\n",
       "      <td>{'Steps': '1. Find how many articles were publ...</td>\n",
       "      <td>3</td>\n",
       "      <td>2</td>\n",
       "      <td>5</td>\n",
       "      <td>1. search engine\\n2. calculator</td>\n",
       "    </tr>\n",
       "    <tr>\n",
       "      <th>3</th>\n",
       "      <td>14569e28-c88c-43e4-8c32-097d35b9a67d</td>\n",
       "      <td>In Unlambda, what exact charcter or text needs...</td>\n",
       "      <td>2</td>\n",
       "      <td>backtick</td>\n",
       "      <td></td>\n",
       "      <td></td>\n",
       "      <td>{'Steps': '1. Searched \"Unlambda syntax\" onlin...</td>\n",
       "      <td>6</td>\n",
       "      <td>3</td>\n",
       "      <td>15</td>\n",
       "      <td>1. Web browser\\n2. Search engine\\n3. Unlambda ...</td>\n",
       "    </tr>\n",
       "    <tr>\n",
       "      <th>4</th>\n",
       "      <td>e1fc63a2-da7a-432f-be78-7c4a95598703</td>\n",
       "      <td>If Eliud Kipchoge could maintain his record-ma...</td>\n",
       "      <td>1</td>\n",
       "      <td>17</td>\n",
       "      <td></td>\n",
       "      <td></td>\n",
       "      <td>{'Steps': '1. Googled Eliud Kipchoge marathon ...</td>\n",
       "      <td>4</td>\n",
       "      <td>3</td>\n",
       "      <td>20</td>\n",
       "      <td>1. A web browser.\\n2. A search engine.\\n3. A c...</td>\n",
       "    </tr>\n",
       "  </tbody>\n",
       "</table>\n",
       "</div>"
      ],
      "text/plain": [
       "                                task_id  \\\n",
       "0  c61d22de-5f6c-4958-a7f6-5e9707bd3466   \n",
       "1  17b5a6a3-bc87-42e8-b0fb-6ab0781ef2cc   \n",
       "2  04a04a9b-226c-43fd-b319-d5e89743676f   \n",
       "3  14569e28-c88c-43e4-8c32-097d35b9a67d   \n",
       "4  e1fc63a2-da7a-432f-be78-7c4a95598703   \n",
       "\n",
       "                                            Question Level Final answer  \\\n",
       "0  A paper about AI regulation that was originall...     2  egalitarian   \n",
       "1  I’m researching species that became invasive a...     2        34689   \n",
       "2  If we assume all articles published by Nature ...     2           41   \n",
       "3  In Unlambda, what exact charcter or text needs...     2     backtick   \n",
       "4  If Eliud Kipchoge could maintain his record-ma...     1           17   \n",
       "\n",
       "  file_name file_path                                 Annotator Metadata  \\\n",
       "0                      {'Steps': '1. Go to arxiv.org and navigate to ...   \n",
       "1                      {'Steps': '1. Search the web for “finding nemo...   \n",
       "2                      {'Steps': '1. Find how many articles were publ...   \n",
       "3                      {'Steps': '1. Searched \"Unlambda syntax\" onlin...   \n",
       "4                      {'Steps': '1. Googled Eliud Kipchoge marathon ...   \n",
       "\n",
       "  num_steps num_tools duration  \\\n",
       "0        12         2        8   \n",
       "1        10         2        5   \n",
       "2         3         2        5   \n",
       "3         6         3       15   \n",
       "4         4         3       20   \n",
       "\n",
       "                                               tools  \n",
       "0  1. Web browser\\n2. Image recognition tools (to...  \n",
       "1                   1. Search engine\\n2. Web browser  \n",
       "2                    1. search engine\\n2. calculator  \n",
       "3  1. Web browser\\n2. Search engine\\n3. Unlambda ...  \n",
       "4  1. A web browser.\\n2. A search engine.\\n3. A c...  "
      ]
     },
     "execution_count": 4,
     "metadata": {},
     "output_type": "execute_result"
    }
   ],
   "source": [
    "# Login using e.g. `huggingface-cli login` to access this dataset\n",
    "ds = load_dataset(\"gaia-benchmark/GAIA\", \"2023_all\")\n",
    "df_val = ds['validation'].to_pandas()\n",
    "df_test = ds['test'].to_pandas() \n",
    "print(\"Test shape: \", df_test.shape)\n",
    "print(\"Val shape: \", df_val.shape)\n",
    "\n",
    "# some post processing \n",
    "df_val[\"num_steps\"] = None\n",
    "df_val[\"num_tools\"] = None\n",
    "df_val[\"duration\"] = None\n",
    "df_val[\"tools\"] = None\n",
    "\n",
    "# level to int\n",
    "# df_val[\"Level\"] = df_val[\"Level\"].astype(int)\n",
    "\n",
    "\n",
    "for i in range(len(df_val)): \n",
    "    meta = df_val.iloc[i][\"Annotator Metadata\"] \n",
    "    df_val.at[i, \"num_steps\"] = meta[\"Number of steps\"]\n",
    "    df_val.at[i, \"num_tools\"] = meta[\"Number of tools\"]\n",
    "    df_val.at[i, \"duration\"] = meta[\"How long did this take?\"].lower().replace(\" minutes\", \"\")\n",
    "    df_val.at[i, \"tools\"] = meta[\"Tools\"]\n",
    "df_val.iloc[0][\"Annotator Metadata\"] \n",
    "\n",
    "df_val.head(5)"
   ]
  },
  {
   "cell_type": "code",
   "execution_count": 5,
   "metadata": {},
   "outputs": [
    {
     "name": "stdout",
     "output_type": "stream",
     "text": [
      "Average number of tools:  2.3575757575757574\n"
     ]
    },
    {
     "data": {
      "image/png": "[encoded data removed]",
      "text/plain": [
       "<Figure size 640x480 with 1 Axes>"
      ]
     },
     "metadata": {},
     "output_type": "display_data"
    },
    {
     "data": {
      "image/png": "[encoded data removed]",
      "text/plain": [
       "<Figure size 640x480 with 1 Axes>"
      ]
     },
     "metadata": {},
     "output_type": "display_data"
    }
   ],
   "source": [
    "# histogram of tasks by level on the x axis and count on y colored by Level \n",
    "import matplotlib.pyplot as plt \n",
    "import seaborn as sns\n",
    "\n",
    "sns.histplot(data=df_val, x=\"Level\", hue=\"num_tools\", multiple=\"stack\"); \n",
    "plt.title(\"Tasks by Level and Number of Tools\")\n",
    "\n",
    "plt.figure()\n",
    "## histogram of tasks by number tools on x axis\n",
    "sns.histplot(data=df_val, x=\"num_tools\", hue=\"Level\", multiple=\"stack\");\n",
    "plt.title(\"Tasks by Number of Tools and Level\")  \n",
    "\n",
    "average_num_tools = df_val['num_tools'].replace([\"\", None], 0).astype(int).mean()\n",
    "print(\"Average number of tools: \", average_num_tools)"
   ]
  },
  {
   "cell_type": "markdown",
   "metadata": {},
   "source": [
    "## Loading the GPQA Dataset \n",
    "\n"
   ]
  },
  {
   "cell_type": "code",
   "execution_count": 7,
   "metadata": {},
   "outputs": [
    {
     "name": "stderr",
     "output_type": "stream",
     "text": [
      "Downloading readme: 100%|██████████| 3.30k/3.30k [00:00<00:00, 39.3kB/s]\n",
      "Downloading data: 100%|██████████| 1.37M/1.37M [00:00<00:00, 3.50MB/s]\n",
      "Generating train split: 100%|██████████| 198/198 [00:00<00:00, 5307.72 examples/s]\n"
     ]
    }
   ],
   "source": [
    "from datasets import load_dataset\n",
    "\n",
    "# Login using e.g. `huggingface-cli login` to access this dataset\n",
    "ds = load_dataset(\"Idavidrein/gpqa\", \"gpqa_diamond\")"
   ]
  },
  {
   "cell_type": "code",
   "execution_count": null,
   "metadata": {},
   "outputs": [],
   "source": []
  }
 ],
 "metadata": {
  "kernelspec": {
   "display_name": "mabook",
   "language": "python",
   "name": "python3"
  },
  "language_info": {
   "codemirror_mode": {
    "name": "ipython",
    "version": 3
   },
   "file_extension": ".py",
   "mimetype": "text/x-python",
   "name": "python",
   "nbconvert_exporter": "python",
   "pygments_lexer": "ipython3",
   "version": "3.10.14"
  }
 },
 "nbformat": 4,
 "nbformat_minor": 2
}
