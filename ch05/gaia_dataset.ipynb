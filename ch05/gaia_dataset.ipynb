{
 "cells": [
  {
   "cell_type": "markdown",
   "metadata": {},
   "source": [
    "## Loading the GAIA Dataset - GAIA: A Benchmark for General AI Assistants\n",
    "\n",
    "This notebooks provides an example of how to load and explore the GAIA dataset for the competition. The dataset is stored in a single file, which is a compressed CSV file. The dataset is loaded using the `pandas` library, which is a popular library for data manipulation and analysis in Python. "
   ]
  },
  {
   "cell_type": "code",
   "execution_count": 1,
   "metadata": {},
   "outputs": [],
   "source": [
    "# also get your huggingface token from https://huggingface.co/settings/profile and add it to a .env file in the same directory as this script\n",
    "# HF_TOKEN=your_token_here"
   ]
  },
  {
   "cell_type": "code",
   "execution_count": 2,
   "metadata": {},
   "outputs": [
    {
     "name": "stderr",
     "output_type": "stream",
     "text": [
      "/opt/homebrew/Caskroom/miniconda/base/envs/mabook/lib/python3.10/site-packages/tqdm/auto.py:21: TqdmWarning: IProgress not found. Please update jupyter and ipywidgets. See https://ipywidgets.readthedocs.io/en/stable/user_install.html\n",
      "  from .autonotebook import tqdm as notebook_tqdm\n"
     ]
    },
    {
     "data": {
      "text/plain": [
       "False"
      ]
     },
     "execution_count": 2,
     "metadata": {},
     "output_type": "execute_result"
    }
   ],
   "source": [
    "from dotenv import load_dotenv\n",
    "import os\n",
    "import json \n",
    "from datasets import load_dataset\n",
    "import pandas as pd\n",
    "load_dotenv()"
   ]
  },
  {
   "cell_type": "code",
   "execution_count": 3,
   "metadata": {},
   "outputs": [
    {
     "name": "stderr",
     "output_type": "stream",
     "text": [
      "Using the latest cached version of the dataset since gaia-benchmark/GAIA couldn't be found on the Hugging Face Hub\n",
      "Found the latest cached dataset configuration '2023_all' at /Users/victordibia/.cache/huggingface/datasets/gaia-benchmark___gaia/2023_all/0.0.1/06dfd28455b4bb0ee76378b97adc2c70aa43b701 (last modified on Mon Jul 15 09:22:30 2024).\n"
     ]
    },
    {
     "name": "stdout",
     "output_type": "stream",
     "text": [
      "Test shape:  (301, 7)\n",
      "Val shape:  (165, 7)\n"
     ]
    },
    {
     "data": {
      "text/html": [
       "<div>\n",
       "<style scoped>\n",
       "    .dataframe tbody tr th:only-of-type {\n",
       "        vertical-align: middle;\n",
       "    }\n",
       "\n",
       "    .dataframe tbody tr th {\n",
       "        vertical-align: top;\n",
       "    }\n",
       "\n",
       "    .dataframe thead th {\n",
       "        text-align: right;\n",
       "    }\n",
       "</style>\n",
       "<table border=\"1\" class=\"dataframe\">\n",
       "  <thead>\n",
       "    <tr style=\"text-align: right;\">\n",
       "      <th></th>\n",
       "      <th>task_id</th>\n",
       "      <th>Question</th>\n",
       "      <th>Level</th>\n",
       "      <th>Final answer</th>\n",
       "      <th>file_name</th>\n",
       "      <th>file_path</th>\n",
       "      <th>Annotator Metadata</th>\n",
       "      <th>num_steps</th>\n",
       "      <th>num_tools</th>\n",
       "      <th>duration</th>\n",
       "      <th>tools</th>\n",
       "    </tr>\n",
       "  </thead>\n",
       "  <tbody>\n",
       "    <tr>\n",
       "      <th>0</th>\n",
       "      <td>c61d22de-5f6c-4958-a7f6-5e9707bd3466</td>\n",
       "      <td>A paper about AI regulation that was originall...</td>\n",
       "      <td>2</td>\n",
       "      <td>egalitarian</td>\n",
       "      <td></td>\n",
       "      <td></td>\n",
       "      <td>{'Steps': '1. Go to arxiv.org and navigate to ...</td>\n",
       "      <td>12</td>\n",
       "      <td>2</td>\n",
       "      <td>8</td>\n",
       "      <td>1. Web browser\\n2. Image recognition tools (to...</td>\n",
       "    </tr>\n",
       "    <tr>\n",
       "      <th>1</th>\n",
       "      <td>17b5a6a3-bc87-42e8-b0fb-6ab0781ef2cc</td>\n",
       "      <td>I’m researching species that became invasive a...</td>\n",
       "      <td>2</td>\n",
       "      <td>34689</td>\n",
       "      <td></td>\n",
       "      <td></td>\n",
       "      <td>{'Steps': '1. Search the web for “finding nemo...</td>\n",
       "      <td>10</td>\n",
       "      <td>2</td>\n",
       "      <td>5</td>\n",
       "      <td>1. Search engine\\n2. Web browser</td>\n",
       "    </tr>\n",
       "    <tr>\n",
       "      <th>2</th>\n",
       "      <td>04a04a9b-226c-43fd-b319-d5e89743676f</td>\n",
       "      <td>If we assume all articles published by Nature ...</td>\n",
       "      <td>2</td>\n",
       "      <td>41</td>\n",
       "      <td></td>\n",
       "      <td></td>\n",
       "      <td>{'Steps': '1. Find how many articles were publ...</td>\n",
       "      <td>3</td>\n",
       "      <td>2</td>\n",
       "      <td>5</td>\n",
       "      <td>1. search engine\\n2. calculator</td>\n",
       "    </tr>\n",
       "    <tr>\n",
       "      <th>3</th>\n",
       "      <td>14569e28-c88c-43e4-8c32-097d35b9a67d</td>\n",
       "      <td>In Unlambda, what exact charcter or text needs...</td>\n",
       "      <td>2</td>\n",
       "      <td>backtick</td>\n",
       "      <td></td>\n",
       "      <td></td>\n",
       "      <td>{'Steps': '1. Searched \"Unlambda syntax\" onlin...</td>\n",
       "      <td>6</td>\n",
       "      <td>3</td>\n",
       "      <td>15</td>\n",
       "      <td>1. Web browser\\n2. Search engine\\n3. Unlambda ...</td>\n",
       "    </tr>\n",
       "    <tr>\n",
       "      <th>4</th>\n",
       "      <td>e1fc63a2-da7a-432f-be78-7c4a95598703</td>\n",
       "      <td>If Eliud Kipchoge could maintain his record-ma...</td>\n",
       "      <td>1</td>\n",
       "      <td>17</td>\n",
       "      <td></td>\n",
       "      <td></td>\n",
       "      <td>{'Steps': '1. Googled Eliud Kipchoge marathon ...</td>\n",
       "      <td>4</td>\n",
       "      <td>3</td>\n",
       "      <td>20</td>\n",
       "      <td>1. A web browser.\\n2. A search engine.\\n3. A c...</td>\n",
       "    </tr>\n",
       "  </tbody>\n",
       "</table>\n",
       "</div>"
      ],
      "text/plain": [
       "                                task_id  \\\n",
       "0  c61d22de-5f6c-4958-a7f6-5e9707bd3466   \n",
       "1  17b5a6a3-bc87-42e8-b0fb-6ab0781ef2cc   \n",
       "2  04a04a9b-226c-43fd-b319-d5e89743676f   \n",
       "3  14569e28-c88c-43e4-8c32-097d35b9a67d   \n",
       "4  e1fc63a2-da7a-432f-be78-7c4a95598703   \n",
       "\n",
       "                                            Question Level Final answer  \\\n",
       "0  A paper about AI regulation that was originall...     2  egalitarian   \n",
       "1  I’m researching species that became invasive a...     2        34689   \n",
       "2  If we assume all articles published by Nature ...     2           41   \n",
       "3  In Unlambda, what exact charcter or text needs...     2     backtick   \n",
       "4  If Eliud Kipchoge could maintain his record-ma...     1           17   \n",
       "\n",
       "  file_name file_path                                 Annotator Metadata  \\\n",
       "0                      {'Steps': '1. Go to arxiv.org and navigate to ...   \n",
       "1                      {'Steps': '1. Search the web for “finding nemo...   \n",
       "2                      {'Steps': '1. Find how many articles were publ...   \n",
       "3                      {'Steps': '1. Searched \"Unlambda syntax\" onlin...   \n",
       "4                      {'Steps': '1. Googled Eliud Kipchoge marathon ...   \n",
       "\n",
       "  num_steps num_tools duration  \\\n",
       "0        12         2        8   \n",
       "1        10         2        5   \n",
       "2         3         2        5   \n",
       "3         6         3       15   \n",
       "4         4         3       20   \n",
       "\n",
       "                                               tools  \n",
       "0  1. Web browser\\n2. Image recognition tools (to...  \n",
       "1                   1. Search engine\\n2. Web browser  \n",
       "2                    1. search engine\\n2. calculator  \n",
       "3  1. Web browser\\n2. Search engine\\n3. Unlambda ...  \n",
       "4  1. A web browser.\\n2. A search engine.\\n3. A c...  "
      ]
     },
     "execution_count": 3,
     "metadata": {},
     "output_type": "execute_result"
    }
   ],
   "source": [
    "# Login using e.g. `huggingface-cli login` to access this dataset\n",
    "ds = load_dataset(\"gaia-benchmark/GAIA\", \"2023_all\")\n",
    "df_val = ds['validation'].to_pandas()\n",
    "df_test = ds['test'].to_pandas() \n",
    "print(\"Test shape: \", df_test.shape)\n",
    "print(\"Val shape: \", df_val.shape)\n",
    "\n",
    "# some post processing \n",
    "df_val[\"num_steps\"] = None\n",
    "df_val[\"num_tools\"] = None\n",
    "df_val[\"duration\"] = None\n",
    "df_val[\"tools\"] = None\n",
    "\n",
    "# level to int\n",
    "# df_val[\"Level\"] = df_val[\"Level\"].astype(int)\n",
    "\n",
    "\n",
    "for i in range(len(df_val)): \n",
    "    meta = df_val.iloc[i][\"Annotator Metadata\"] \n",
    "    df_val.at[i, \"num_steps\"] = meta[\"Number of steps\"]\n",
    "    df_val.at[i, \"num_tools\"] = meta[\"Number of tools\"]\n",
    "    df_val.at[i, \"duration\"] = meta[\"How long did this take?\"].lower().replace(\" minutes\", \"\")\n",
    "    df_val.at[i, \"tools\"] = meta[\"Tools\"]\n",
    "df_val.iloc[0][\"Annotator Metadata\"] \n",
    "\n",
    "df_val.head()"
   ]
  },
  {
   "cell_type": "code",
   "execution_count": 4,
   "metadata": {},
   "outputs": [
    {
     "ename": "ModuleNotFoundError",
     "evalue": "No module named 'seaborn'",
     "output_type": "error",
     "traceback": [
      "\u001b[0;31m---------------------------------------------------------------------------\u001b[0m",
      "\u001b[0;31mModuleNotFoundError\u001b[0m                       Traceback (most recent call last)",
      "Cell \u001b[0;32mIn[4], line 4\u001b[0m\n\u001b[1;32m      1\u001b[0m \u001b[38;5;66;03m# histogram of tasks by level on the x axis and count on y colored by Level \u001b[39;00m\n\u001b[1;32m      2\u001b[0m \u001b[38;5;28;01mimport\u001b[39;00m \u001b[38;5;21;01mmatplotlib\u001b[39;00m\u001b[38;5;21;01m.\u001b[39;00m\u001b[38;5;21;01mpyplot\u001b[39;00m \u001b[38;5;28;01mas\u001b[39;00m \u001b[38;5;21;01mplt\u001b[39;00m \n\u001b[0;32m----> 4\u001b[0m \u001b[38;5;28;01mimport\u001b[39;00m \u001b[38;5;21;01mseaborn\u001b[39;00m \u001b[38;5;28;01mas\u001b[39;00m \u001b[38;5;21;01msns\u001b[39;00m\n\u001b[1;32m      5\u001b[0m sns\u001b[38;5;241m.\u001b[39mhistplot(data\u001b[38;5;241m=\u001b[39mdf_val, x\u001b[38;5;241m=\u001b[39m\u001b[38;5;124m\"\u001b[39m\u001b[38;5;124mLevel\u001b[39m\u001b[38;5;124m\"\u001b[39m, hue\u001b[38;5;241m=\u001b[39m\u001b[38;5;124m\"\u001b[39m\u001b[38;5;124mnum_tools\u001b[39m\u001b[38;5;124m\"\u001b[39m, multiple\u001b[38;5;241m=\u001b[39m\u001b[38;5;124m\"\u001b[39m\u001b[38;5;124mstack\u001b[39m\u001b[38;5;124m\"\u001b[39m); \n\u001b[1;32m      6\u001b[0m plt\u001b[38;5;241m.\u001b[39mtitle(\u001b[38;5;124m\"\u001b[39m\u001b[38;5;124mTasks by Level and Number of Tools\u001b[39m\u001b[38;5;124m\"\u001b[39m)\n",
      "\u001b[0;31mModuleNotFoundError\u001b[0m: No module named 'seaborn'"
     ]
    }
   ],
   "source": [
    "# histogram of tasks by level on the x axis and count on y colored by Level \n",
    "import matplotlib.pyplot as plt \n",
    "import seaborn as sns\n",
    "\n",
    "sns.histplot(data=df_val, x=\"Level\", hue=\"num_tools\", multiple=\"stack\"); \n",
    "plt.title(\"Tasks by Level and Number of Tools\")\n",
    "\n",
    "plt.figure()\n",
    "## histogram of tasks by number tools on x axis\n",
    "sns.histplot(data=df_val, x=\"num_tools\", hue=\"Level\", multiple=\"stack\");\n",
    "plt.title(\"Tasks by Number of Tools and Level\")  \n",
    "\n",
    "average_num_tools = df_val['num_tools'].replace([\"\", None], 0).astype(int).mean()\n",
    "print(\"Average number of tools: \", average_num_tools)"
   ]
  }
 ],
 "metadata": {
  "kernelspec": {
   "display_name": "mabook",
   "language": "python",
   "name": "python3"
  },
  "language_info": {
   "codemirror_mode": {
    "name": "ipython",
    "version": 3
   },
   "file_extension": ".py",
   "mimetype": "text/x-python",
   "name": "python",
   "nbconvert_exporter": "python",
   "pygments_lexer": "ipython3",
   "version": "3.10.14"
  }
 },
 "nbformat": 4,
 "nbformat_minor": 2
}
