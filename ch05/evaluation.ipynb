{
 "cells": [
  {
   "cell_type": "code",
   "execution_count": 8,
   "metadata": {},
   "outputs": [],
   "source": [
    "# !pip install autogenstudio"
   ]
  },
  {
   "cell_type": "code",
   "execution_count": 2,
   "metadata": {},
   "outputs": [
    {
     "name": "stderr",
     "output_type": "stream",
     "text": [
      "\u001b[32m2024-09-16 16:34:30.317\u001b[0m | \u001b[31m\u001b[1mERROR   \u001b[0m | \u001b[36mautogenstudio.utils.utils\u001b[0m:\u001b[36mload_code_execution_config\u001b[0m:\u001b[36m479\u001b[0m - \u001b[31m\u001b[1mError initializing Docker executor: Error while fetching server API version: ('Connection aborted.', FileNotFoundError(2, 'No such file or directory'))\u001b[0m\n"
     ]
    },
    {
     "name": "stdout",
     "output_type": "stream",
     "text": [
      "\u001b[33muser_proxy\u001b[0m (to default_assistant):\n",
      "\n",
      "What is the height of the Eiffel Tower?. Dont write code, just respond to the question.\n",
      "\n",
      "--------------------------------------------------------------------------------\n",
      "\u001b[33mdefault_assistant\u001b[0m (to user_proxy):\n",
      "\n",
      "The Eiffel Tower is approximately 300 meters (984 feet) tall, not including antennas. With antennas, it reaches a height of about 330 meters (1,083 feet).\n",
      "\n",
      "--------------------------------------------------------------------------------\n",
      "\u001b[33muser_proxy\u001b[0m (to default_assistant):\n",
      "\n",
      "TERMINATE\n",
      "\n",
      "--------------------------------------------------------------------------------\n"
     ]
    }
   ],
   "source": [
    "from autogenstudio import WorkflowManager\n",
    "\n",
    "workflow_manager = WorkflowManager(workflow=\"workflow.json\")\n",
    "\n",
    "# run the workflow on a task\n",
    "task_query = \"What is the height of the Eiffel Tower?. Dont write code, just respond to the question.\"\n",
    "results = workflow_manager.run(message=task_query)"
   ]
  },
  {
   "cell_type": "code",
   "execution_count": 4,
   "metadata": {},
   "outputs": [
    {
     "data": {
      "text/plain": [
       "Message(role='assistant', content='TERMINATE', meta={'messages': [{'recipient': 'default_assistant', 'sender': 'user_proxy', 'message': {'content': 'What is the height of the Eiffel Tower?. Dont write code, just respond to the question.', 'role': 'user'}, 'timestamp': '2024-09-16T16:34:30.327027', 'sender_type': 'agent', 'connection_id': None, 'message_type': 'agent_message'}, {'recipient': 'user_proxy', 'sender': 'default_assistant', 'message': {'content': 'The Eiffel Tower is approximately 300 meters (984 feet) tall, not including antennas. With antennas, it reaches a height of about 330 meters (1,083 feet).', 'role': 'user'}, 'timestamp': '2024-09-16T16:34:30.333135', 'sender_type': 'agent', 'connection_id': None, 'message_type': 'agent_message'}, {'recipient': 'default_assistant', 'sender': 'user_proxy', 'message': {'content': 'TERMINATE', 'role': 'user'}, 'timestamp': '2024-09-16T16:34:30.333955', 'sender_type': 'agent', 'connection_id': None, 'message_type': 'agent_message'}], 'summary_method': 'last', 'time': 0.015816926956176758, 'files': [{'path': '', 'name': 'skills.py', 'extension': 'py', 'type': 'code'}], 'usage': [{'agent': 'user_proxy', 'total_cost': 0, 'total_tokens': 0}, {'agent': 'default_assistant', 'total_cost': 0.011340000000000001, 'total_tokens': 1058}]}, id=None, created_at=datetime.datetime(2024, 9, 16, 16, 34, 30, 335323), updated_at=datetime.datetime(2024, 9, 16, 16, 34, 30, 335327), user_id=None, session_id=None, connection_id=None)"
      ]
     },
     "execution_count": 4,
     "metadata": {},
     "output_type": "execute_result"
    }
   ],
   "source": [
    "results"
   ]
  },
  {
   "cell_type": "code",
   "execution_count": 3,
   "metadata": {},
   "outputs": [
    {
     "data": {
      "text/plain": [
       "[{'recipient': 'default_assistant',\n",
       "  'sender': 'user_proxy',\n",
       "  'message': {'content': 'What is the height of the Eiffel Tower?. Dont write code, just respond to the question.',\n",
       "   'role': 'user'},\n",
       "  'timestamp': '2024-09-16T16:34:30.327027',\n",
       "  'sender_type': 'agent',\n",
       "  'connection_id': None,\n",
       "  'message_type': 'agent_message'},\n",
       " {'recipient': 'user_proxy',\n",
       "  'sender': 'default_assistant',\n",
       "  'message': {'content': 'The Eiffel Tower is approximately 300 meters (984 feet) tall, not including antennas. With antennas, it reaches a height of about 330 meters (1,083 feet).',\n",
       "   'role': 'user'},\n",
       "  'timestamp': '2024-09-16T16:34:30.333135',\n",
       "  'sender_type': 'agent',\n",
       "  'connection_id': None,\n",
       "  'message_type': 'agent_message'},\n",
       " {'recipient': 'default_assistant',\n",
       "  'sender': 'user_proxy',\n",
       "  'message': {'content': 'TERMINATE', 'role': 'user'},\n",
       "  'timestamp': '2024-09-16T16:34:30.333955',\n",
       "  'sender_type': 'agent',\n",
       "  'connection_id': None,\n",
       "  'message_type': 'agent_message'}]"
      ]
     },
     "execution_count": 3,
     "metadata": {},
     "output_type": "execute_result"
    }
   ],
   "source": [
    "workflow_manager.agent_history"
   ]
  },
  {
   "cell_type": "code",
   "execution_count": 11,
   "metadata": {},
   "outputs": [
    {
     "data": {
      "text/plain": [
       "[{'recipient': 'default_assistant',\n",
       "  'sender': 'user_proxy',\n",
       "  'message': {'content': 'What is the height of the Eiffel Tower?. Dont write code, just respond to the question.',\n",
       "   'role': 'user'},\n",
       "  'timestamp': '2024-09-14T18:29:59.358710',\n",
       "  'sender_type': 'agent',\n",
       "  'connection_id': None,\n",
       "  'message_type': 'agent_message'},\n",
       " {'recipient': 'user_proxy',\n",
       "  'sender': 'default_assistant',\n",
       "  'message': {'content': 'The Eiffel Tower is approximately 300 meters (984 feet) tall, not including antennas. With antennas, it reaches a height of about 330 meters (1,083 feet).',\n",
       "   'role': 'user'},\n",
       "  'timestamp': '2024-09-14T18:30:01.561139',\n",
       "  'sender_type': 'agent',\n",
       "  'connection_id': None,\n",
       "  'message_type': 'agent_message'},\n",
       " {'recipient': 'default_assistant',\n",
       "  'sender': 'user_proxy',\n",
       "  'message': {'content': 'TERMINATE', 'role': 'user'},\n",
       "  'timestamp': '2024-09-14T18:30:01.562634',\n",
       "  'sender_type': 'agent',\n",
       "  'connection_id': None,\n",
       "  'message_type': 'agent_message'}]"
      ]
     },
     "execution_count": 11,
     "metadata": {},
     "output_type": "execute_result"
    }
   ],
   "source": [
    "results.meta[\"messages\"]"
   ]
  },
  {
   "cell_type": "code",
   "execution_count": 14,
   "metadata": {},
   "outputs": [
    {
     "data": {
      "text/plain": [
       "dict_keys(['messages', 'summary_method', 'time', 'files', 'usage'])"
      ]
     },
     "execution_count": 14,
     "metadata": {},
     "output_type": "execute_result"
    }
   ],
   "source": [
    "results.meta.keys()"
   ]
  },
  {
   "cell_type": "code",
   "execution_count": null,
   "metadata": {},
   "outputs": [],
   "source": []
  }
 ],
 "metadata": {
  "kernelspec": {
   "display_name": "mabook",
   "language": "python",
   "name": "python3"
  },
  "language_info": {
   "codemirror_mode": {
    "name": "ipython",
    "version": 3
   },
   "file_extension": ".py",
   "mimetype": "text/x-python",
   "name": "python",
   "nbconvert_exporter": "python",
   "pygments_lexer": "ipython3",
   "version": "3.10.14"
  }
 },
 "nbformat": 4,
 "nbformat_minor": 2
}
