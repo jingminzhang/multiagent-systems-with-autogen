{
 "cells": [
  {
   "cell_type": "markdown",
   "metadata": {},
   "source": [
    "## Migrating from AutoGen v0.2 -> AutoGen AgentChat v0.4 \n",
    "\n",
    "Quick documentation on how to migrate to the new AgentChat API.\n",
    "\n",
    "Quick notes\n",
    "\n",
    "- AgentChat is written to be at similar level of abstraction as AutoGen 0.2\n",
    "- Provides presents on Agents, Teams, Termination Conditions \n"
   ]
  },
  {
   "cell_type": "code",
   "execution_count": null,
   "metadata": {},
   "outputs": [],
   "source": [
    "!pip install autogen-agentchat"
   ]
  },
  {
   "cell_type": "markdown",
   "metadata": {},
   "source": [
    "```python \n",
    "\n",
    "import os\n",
    "from autogen import AssistantAgent, UserProxyAgent\n",
    "\n",
    "llm_config = { \"config_list\": [{ \"model\": \"gpt-4\", \"api_key\": os.environ.get(\"OPENAI_API_KEY\") }] }\n",
    "assistant = AssistantAgent(\"assistant\", llm_config=llm_config)\n",
    "user_proxy = UserProxyAgent(\"user_proxy\", code_execution_config=False)\n",
    "\n",
    "# Start the chat\n",
    "user_proxy.initiate_chat(\n",
    "    assistant,\n",
    "    message=\"Tell me a joke about NVDA and TESLA stock prices.\",\n",
    ")\n",
    "\n",
    "```"
   ]
  },
  {
   "cell_type": "code",
   "execution_count": 1,
   "metadata": {},
   "outputs": [
    {
     "ename": "ModuleNotFoundError",
     "evalue": "No module named 'autogen_agentchat'",
     "output_type": "error",
     "traceback": [
      "\u001b[0;31m---------------------------------------------------------------------------\u001b[0m",
      "\u001b[0;31mModuleNotFoundError\u001b[0m                       Traceback (most recent call last)",
      "\u001b[1;32m/workspaces/multiagent-systems-with-autogen/agentchat/migration.ipynb Cell 4\u001b[0m line \u001b[0;36m1\n\u001b[0;32m----> <a href='vscode-notebook-cell://codespaces%2Bmusical-zebra-g49w6pq5wjf77g/workspaces/multiagent-systems-with-autogen/agentchat/migration.ipynb#W1sdnNjb2RlLXJlbW90ZQ%3D%3D?line=0'>1</a>\u001b[0m \u001b[39mfrom\u001b[39;00m \u001b[39mautogen_agentchat\u001b[39;00m\u001b[39m.\u001b[39;00m\u001b[39magents\u001b[39;00m \u001b[39mimport\u001b[39;00m AssistantAgent\n\u001b[1;32m      <a href='vscode-notebook-cell://codespaces%2Bmusical-zebra-g49w6pq5wjf77g/workspaces/multiagent-systems-with-autogen/agentchat/migration.ipynb#W1sdnNjb2RlLXJlbW90ZQ%3D%3D?line=1'>2</a>\u001b[0m \u001b[39mfrom\u001b[39;00m \u001b[39mautogen_agentchat\u001b[39;00m\u001b[39m.\u001b[39;00m\u001b[39mtask\u001b[39;00m \u001b[39mimport\u001b[39;00m Console, TextMentionTermination\n\u001b[1;32m      <a href='vscode-notebook-cell://codespaces%2Bmusical-zebra-g49w6pq5wjf77g/workspaces/multiagent-systems-with-autogen/agentchat/migration.ipynb#W1sdnNjb2RlLXJlbW90ZQ%3D%3D?line=2'>3</a>\u001b[0m \u001b[39mfrom\u001b[39;00m \u001b[39mautogen_agentchat\u001b[39;00m\u001b[39m.\u001b[39;00m\u001b[39mteams\u001b[39;00m \u001b[39mimport\u001b[39;00m RoundRobinGroupChat\n",
      "\u001b[0;31mModuleNotFoundError\u001b[0m: No module named 'autogen_agentchat'"
     ]
    }
   ],
   "source": [
    "from autogen_agentchat.agents import AssistantAgent\n",
    "from autogen_agentchat.task import Console, TextMentionTermination\n",
    "from autogen_agentchat.teams import RoundRobinGroupChat\n",
    "from autogen_ext.models import OpenAIChatCompletionClient \n",
    "\n",
    "\n",
    "assistant = AssistantAgent(\n",
    "        name=\"assistant\",\n",
    "        model_client=OpenAIChatCompletionClient( model=\"gpt-4o-2024-08-06\")\n",
    "    )"
   ]
  },
  {
   "cell_type": "code",
   "execution_count": null,
   "metadata": {},
   "outputs": [],
   "source": []
  }
 ],
 "metadata": {
  "language_info": {
   "name": "python"
  }
 },
 "nbformat": 4,
 "nbformat_minor": 2
}
