{
 "cells": [
  {
   "cell_type": "markdown",
   "metadata": {},
   "source": [
    "## Building Multi-Agent Systems with the AutoGen AgentChat API \n",
    "\n",
    "AutoGen recently released a new version of the [framework (v0.4)](https://microsoft.github.io/autogen/0.2/blog/) with an asynchronous event driven api where agents primary act when they receive a message. It introduces the concept of runtimes (which may be single threaded or distributed) and agents that can be run on these runtimes.\n",
    "\n",
    "It also includes a high level API - [AgentChat]() that focuses on providing presets for agent behaviours and how these agents can interact as part of a team or workflow.\n",
    "\n",
    "This notebook provides an example of the AgentChat API."
   ]
  },
  {
   "cell_type": "code",
   "execution_count": null,
   "metadata": {},
   "outputs": [],
   "source": [
    "# install the agentchat package\n",
    "# !pip install -U 'autogen-agentchat==0.4.0.dev6' 'autogen-ext==0.4.0.dev6'  openai"
   ]
  },
  {
   "cell_type": "code",
   "execution_count": 1,
   "metadata": {},
   "outputs": [],
   "source": [
    "from autogen_agentchat.agents import AssistantAgent\n",
    "from autogen_agentchat.task import Console, TextMentionTermination\n",
    "from autogen_agentchat.teams import RoundRobinGroupChat, SelectorGroupChat\n",
    "from autogen_ext.models import OpenAIChatCompletionClient"
   ]
  },
  {
   "cell_type": "markdown",
   "metadata": {},
   "source": [
    "## A Single Agent \n",
    "\n",
    "Basic example of a single agent that can receive a message and respond using an LLM.\""
   ]
  },
  {
   "cell_type": "code",
   "execution_count": null,
   "metadata": {},
   "outputs": [],
   "source": [
    "agent = AssistantAgent( name=\"single_agent\", model_client=OpenAIChatCompletionClient( model=\"gpt-4o-mini\")) \n",
    "\n",
    "result = await agent.run(task=\"What is the height of the eiffel tower?\") \n",
    "print(result.messages[-1].content)"
   ]
  },
  {
   "cell_type": "markdown",
   "metadata": {},
   "source": [
    "## Defining an Agent Team \n",
    "\n",
    "AgentChat offers several team presents. In the following section, we will review a RoundRobinGroupChat team where each agent in the team takes turns to respond to a message in a round-robin fashion."
   ]
  },
  {
   "cell_type": "code",
   "execution_count": null,
   "metadata": {},
   "outputs": [],
   "source": [
    "agent = AssistantAgent(\n",
    "    name=\"basic_agent\", model_client=OpenAIChatCompletionClient(model=\"gpt-4o-mini\"))\n",
    "\n",
    "team = RoundRobinGroupChat(\n",
    "    participants=[agent], termination_condition=TextMentionTermination(\"TERMINATE\"))\n",
    "\n",
    "team_result = await team.run(task=\"What is the weather in San Francisco?\")\n"
   ]
  },
  {
   "cell_type": "code",
   "execution_count": null,
   "metadata": {},
   "outputs": [],
   "source": [
    "for message in team_result.messages:\n",
    "    print(message.content)"
   ]
  },
  {
   "cell_type": "markdown",
   "metadata": {},
   "source": [
    "## Giving Agents Access to Tools "
   ]
  },
  {
   "cell_type": "code",
   "execution_count": null,
   "metadata": {},
   "outputs": [],
   "source": [
    "def get_weather(city: str) -> str:\n",
    "    return f\"The weather in {city} is 73 degrees and Sunny.\"\n",
    "\n",
    "agent = AssistantAgent(\n",
    "    name=\"basic_agent\", model_client=OpenAIChatCompletionClient(model=\"gpt-4o-mini\"), \n",
    "    tools=[get_weather])\n",
    "\n",
    "team = RoundRobinGroupChat(\n",
    "    participants=[agent], termination_condition=TextMentionTermination(\"TERMINATE\"))\n",
    "\n",
    "team_result = await team.run(task=\"What is the weather in San Francisco?\")"
   ]
  },
  {
   "cell_type": "code",
   "execution_count": null,
   "metadata": {},
   "outputs": [],
   "source": [
    "for message in team_result.messages:\n",
    "    print(message.content)"
   ]
  },
  {
   "cell_type": "code",
   "execution_count": null,
   "metadata": {},
   "outputs": [],
   "source": []
  },
  {
   "cell_type": "markdown",
   "metadata": {},
   "source": [
    "# Book Generator Team \n",
    "\n",
    "In this section, we will create a team of agents that can generate a simple childrens book. \n",
    "We will create 3 agents, \n",
    "- Planner: Receives a request to generate a book and creates a plan for the book content and structure \n",
    "- Image Generator: Has access to an image generation tool and can use it to generate images based on the text provided by the planner\n",
    "- Book Generator: Wraps content created so far into a pdf book"
   ]
  },
  {
   "cell_type": "code",
   "execution_count": 14,
   "metadata": {},
   "outputs": [
    {
     "data": {
      "text/plain": [
       "'sample_report.pdf'"
      ]
     },
     "execution_count": 14,
     "metadata": {},
     "output_type": "execute_result"
    }
   ],
   "source": [
    "import uuid\n",
    "import requests\n",
    "from fpdf import FPDF\n",
    "from typing import List, Dict, Optional\n",
    "from pathlib import Path\n",
    "from PIL import Image, ImageDraw, ImageOps\n",
    "from io import BytesIO\n",
    "\n",
    "\n",
    "from fpdf import FPDF\n",
    "from typing import List, Dict, Optional\n",
    "import requests\n",
    "from pathlib import Path\n",
    "import os\n",
    "from tempfile import gettempdir\n",
    "\n",
    "from fpdf import FPDF\n",
    "import requests\n",
    "import os\n",
    "from tempfile import gettempdir\n",
    "from PIL import Image\n",
    "from io import BytesIO\n",
    "\n",
    "def generate_and_save_pdf_report(sections: list, output_file: str = \"book.pdf\", report_title: str = \"Book\") -> str:\n",
    "    \"\"\"\n",
    "    Generate a PDF report with text and images from provided sections.\n",
    "\n",
    "    Args:\n",
    "        sections (list): List of dictionaries containing section data. Each section should have:\n",
    "            - title (str): Section title\n",
    "            - content (str): Section content text\n",
    "            - image (str): Path or URL to image file\n",
    "            - level (str): Heading level (e.g., 'h1', 'h2')\n",
    "        output_file (str, optional): Name of output PDF file. Defaults to \"book.pdf\".\n",
    "        report_title (str, optional): Title of the report. Defaults to \"Book\".\n",
    "\n",
    "    Returns:\n",
    "        str: Path to the generated PDF file.\n",
    "\n",
    "    Example:\n",
    "        sections = [{\n",
    "            'title': 'Chapter 1',\n",
    "            'content': 'Chapter content...',\n",
    "            'image': 'path/to/image.png',\n",
    "            'level': 'h1'\n",
    "        }]\n",
    "        pdf_path = generate_and_save_pdf_report(sections, \"output.pdf\", \"My Book\")\n",
    "    \"\"\"\n",
    "    \n",
    "    pdf = FPDF()\n",
    "    pdf.set_auto_page_break(auto=True, margin=15)\n",
    "    \n",
    "    def sanitize_text(text):\n",
    "        return text.encode('ascii', 'replace').decode()\n",
    "\n",
    "    def add_image(img_path):\n",
    "        try:\n",
    "            # Remove sandbox prefix if present\n",
    "            img_path = img_path.replace('sandbox:/', '')\n",
    "            \n",
    "            if img_path.startswith(('http://', 'https://')):\n",
    "                response = requests.get(img_path)\n",
    "                img = Image.open(BytesIO(response.content))\n",
    "                temp_path = os.path.join(gettempdir(), \"temp_image.png\")\n",
    "                img.save(temp_path, 'PNG')\n",
    "                pdf.image(temp_path, x=10, w=190)\n",
    "                os.remove(temp_path)\n",
    "            else:\n",
    "                pdf.image(img_path, x=10, w=190)\n",
    "        except Exception as e:\n",
    "            print(f\"Image error: {e}\")\n",
    "\n",
    "    for section in sections:\n",
    "        pdf.add_page()\n",
    "        if section.get(\"title\"):\n",
    "            pdf.set_font('Arial', 'B', 16)\n",
    "            pdf.cell(0, 10, txt=sanitize_text(section[\"title\"]), ln=True)\n",
    "        if section.get(\"content\"):\n",
    "            pdf.set_font('Arial', '', 12)\n",
    "            pdf.multi_cell(0, 10, txt=sanitize_text(section[\"content\"]))\n",
    "        if section.get(\"image\"):\n",
    "            add_image(section[\"image\"])\n",
    "            pdf.ln(10)\n",
    "\n",
    "    pdf.output(output_file)\n",
    "    return output_file\n",
    "\n",
    "from openai import  OpenAI \n",
    "# Define the tool functions\n",
    "def generate_and_save_images(query: str, image_size: str = \"1024x1024\") -> List[str]:\n",
    "    \"\"\"   \n",
    "    Function to generate images using OpenAI's DALL-E model based on a given prompt query.\n",
    "\n",
    "    :param query: The prompt query to generate the image.\n",
    "    :param image_size: The size of the image in the format \"width x height\". (default is \"1024x1024\")\n",
    "    :return: A list of saved image file paths. \n",
    "\n",
    "    \"\"\"\n",
    "    client = OpenAI()\n",
    "    response = client.images.generate(model=\"dall-e-3\", prompt=query, n=1, size=image_size)\n",
    "    saved_files = []\n",
    "    \n",
    "    if response.data:\n",
    "        for image_data in response.data:\n",
    "            file_name = str(uuid.uuid4()) + \".png\"\n",
    "            file_path = Path(file_name)\n",
    "            img_url = image_data.url\n",
    "            img_response = requests.get(img_url)\n",
    "            if img_response.status_code == 200:\n",
    "                with open(file_path, \"wb\") as img_file:\n",
    "                    img_file.write(img_response.content)\n",
    "                saved_files.append(str(file_path))\n",
    "    return saved_files\n",
    "\n",
    "sample_book = sections = [\n",
    "    {\n",
    "        \"title\": \"Introduction - Early Life\",\n",
    "        \"level\": \"h1\",\n",
    "        \"image\": \"https://picsum.photos/536/354\",\n",
    "        \"content\": (\"Marie Curie was born on 7 November 1867 in Warsaw, Poland. \"\n",
    "                    \"She was the youngest of five children. Both of her parents were teachers. \"\n",
    "                    \"Her father was a math and physics instructor, and her mother was the head of a private school. \"\n",
    "                    \"Marie's curiosity and brilliance were evident from an early age.\"),\n",
    "    }]\n",
    "generate_and_save_pdf_report(sections=sample_book, output_file=\"sample_report.pdf\", report_title=\"Marie Curie Report\")"
   ]
  },
  {
   "cell_type": "code",
   "execution_count": 18,
   "metadata": {},
   "outputs": [],
   "source": [
    "# Story planner agent\n",
    "planner_agent = AssistantAgent(\n",
    "    \"planner_agent\",\n",
    "    model_client=OpenAIChatCompletionClient(model=\"gpt-4o-mini\"),\n",
    "    description=\"A creative writer that can plan and write children's stories.\",\n",
    "    system_message=\"\"\"You are a creative writer specialized in children's stories. \n",
    "    Your role is to create engaging, age-appropriate story outlines and content.\n",
    "    For each story section, provide a title, content, and a detailed image description for illustration.\n",
    "    Structure each section as:\n",
    "    {\n",
    "        'title': 'Section Title',\n",
    "        'content': 'Story content for this section',\n",
    "        'image_description': 'Detailed description for image generation'\n",
    "    }\"\"\"\n",
    ")\n",
    "\n",
    "# Image generator agent\n",
    "image_generator_agent = AssistantAgent(\n",
    "    \"image_generator_agent\",\n",
    "    model_client=OpenAIChatCompletionClient(model=\"gpt-4o-mini\"),\n",
    "    description=\"An agent that generates images for the story using DALL-E.\",\n",
    "    system_message=\"\"\"You are an AI image generator specialist.\n",
    "    Use the generate_and_save_images() function to create illustrations based on provided descriptions.\"\"\",\n",
    "    tools=[generate_and_save_images]\n",
    ")\n",
    "\n",
    "# Book compiler agent\n",
    "book_generator_agent = AssistantAgent(\n",
    "    \"book_generator_agent\",\n",
    "    model_client=OpenAIChatCompletionClient(model=\"gpt-4\"),\n",
    "    description=\"An agent that compiles the story and images into a PDF book.\",\n",
    "    system_message=\"\"\"You are a book compilation specialist.\n",
    "    Your role is to collect story sections and images, format them for PDF generation, and create the final book.\n",
    "    IMPORTANT: Use the actual image file paths returned by the image generator, not placeholder names. For example if the image generator return '71e6aba5-1a7e-488c-9388-e3bc1eeb88c7.png', then use this exactly as the image path in the book generation without any prefix or suffix.\n",
    "    Respond with 'TERMINATE' when the book is successfully generated.\"\"\",\n",
    "    tools=[generate_and_save_pdf_report]\n",
    ")\n",
    "\n",
    "# Set up the group chat with termination condition\n",
    "book_team = SelectorGroupChat(\n",
    "    participants=[planner_agent, image_generator_agent, book_generator_agent],\n",
    "    termination_condition=TextMentionTermination(\"TERMINATE\"),\n",
    "    model_client=OpenAIChatCompletionClient(model=\"gpt-4o-mini\"),\n",
    "    selector_prompt=\"You are  book generation cordinator. The following agent roles are helping you create a book: {roles}. Your goal is to read the progress so far and then select the next role from {participants} to take a turn. Only return the role. . {history}. You must call the agents in the right order  \\nRead the above conversation.  Then select the next role from {participants} to play. Only return the role.\"\n",
    ")"
   ]
  },
  {
   "cell_type": "code",
   "execution_count": 19,
   "metadata": {},
   "outputs": [
    {
     "name": "stdout",
     "output_type": "stream",
     "text": [
      "source='user' models_usage=None content=\"Create a 1 page children's story with 2 images and text about the wonders of the amazon rainforest.\"\n",
      "source='planner_agent' models_usage=RequestUsage(prompt_tokens=121, completion_tokens=611) content='{\\n    \\'title\\': \\'The Adventure in the Amazon Rainforest\\',\\n    \\'content\\': \\'Once upon a time, in the heart of the Amazon rainforest, there lived a curious little monkey named Miko. Miko loved to swing from tree to tree, exploring the vibrant green leaves and listening to the songs of colorful birds. One sunny morning, Miko decided to embark on an adventure to discover the hidden wonders of the forest. He waved goodbye to his friends, the toucans and frogs, and leaped into the depths of the lush jungle. \"What magical things will I find today?\" he wondered excitedly.\\',\\n    \\'image_description\\': \\'A lively scene depicting Miko, the little monkey, swinging through the dense green foliage of the Amazon rainforest. Brightly colored toucans are perched on branches, chirping happily. Below, colorful frogs can be seen hopping around vibrant flowers and lush ferns. Sunlight filters through the canopy, creating a warm and inviting atmosphere.\\'\\n},\\n\\n{\\n    \\'title\\': \\'Meeting New Friends\\',\\n    \\'content\\': \\'As Miko ventured deeper into the rainforest, he met a friendly sloth named Sam. \"Hello there!\" Miko called out. Sam was hanging lazily from a tree branch, munching on a leaf. \"Hi, Miko! Would you like to join me for brunch?\" Sam offered with a slow smile. Miko giggled and accepted the invitation. As they shared the yummy leaves, they shared stories about the rainforest. Sam told Miko about the magical plants that could heal, and Miko shared tales of playful parrots and glittering butterflies.\\',\\n    \\'image_description\\': \\'A warm and cozy scene showing Miko the monkey sitting beside Sam the sloth on a tree branch. Miko is eating a leaf and laughing, while Sam is munching slowly with a content smile. Around them, the rainforest is alive with greenery, flowers, and the distant sound of chirping birds. The image captures a feeling of friendship and the enchanting atmosphere of the jungle.\\'\\n},\\n\\n{\\n    \\'title\\': \\'A World of Wonders\\',\\n    \\'content\\': \\'After their meal, Miko and Sam decided to explore together. They wandered through a meadow filled with wildflowers and spotted bright butterflies fluttering around. As they continued their journey, they discovered a sparkling river filled with fish that danced like jewels! \"Wow, look at the colors!\" Miko squealed in delight. They splashed in the water, laughing and playing as the sun began to dip below the trees, casting a golden light over the forest. Together, they relished the magic of their home and the beauty of their friendship.\\',\\n    \\'image_description\\': \\'An enchanting illustration of Miko and Sam playing by a shimmering river. Miko is joyfully splashing water, while Sam chuckles gently. The river is alive with colorful fish leaping through the air, and wildflowers line the banks. The golden sunset creates a magical glow, illuminating the vast and vibrant rainforest surrounding them.\\'\\n}'\n",
      "source='image_generator_agent' models_usage=RequestUsage(prompt_tokens=802, completion_tokens=295) content=[FunctionCall(id='call_6Mqt8ZHZAAfChbQRWsoFn5HA', arguments='{\"query\": \"A lively scene depicting Miko, the little monkey, swinging through the dense green foliage of the Amazon rainforest. Brightly colored toucans are perched on branches, chirping happily. Below, colorful frogs can be seen hopping around vibrant flowers and lush ferns. Sunlight filters through the canopy, creating a warm and inviting atmosphere.\", \"image_size\": \"1024x1024\"}', name='generate_and_save_images'), FunctionCall(id='call_iyq0Rw2AMChSJdJwPyndTRu4', arguments='{\"query\": \"A warm and cozy scene showing Miko the monkey sitting beside Sam the sloth on a tree branch. Miko is eating a leaf and laughing, while Sam is munching slowly with a content smile. Around them, the rainforest is alive with greenery, flowers, and the distant sound of chirping birds. The image captures a feeling of friendship and the enchanting atmosphere of the jungle.\", \"image_size\": \"1024x1024\"}', name='generate_and_save_images'), FunctionCall(id='call_UJpUZOP75tt8GrCk7BkKJNZe', arguments='{\"query\": \"An enchanting illustration of Miko and Sam playing by a shimmering river. Miko is joyfully splashing water, while Sam chuckles gently. The river is alive with colorful fish leaping through the air, and wildflowers line the banks. The golden sunset creates a magical glow, illuminating the vast and vibrant rainforest surrounding them.\", \"image_size\": \"1024x1024\"}', name='generate_and_save_images')]\n",
      "source='image_generator_agent' models_usage=None content=[FunctionExecutionResult(content=\"['120aa567-583d-4f70-ab70-28b55a9b8138.png']\", call_id='call_6Mqt8ZHZAAfChbQRWsoFn5HA'), FunctionExecutionResult(content=\"['ac1f90f8-4d6a-4d00-8d9c-581f79f2cdf7.png']\", call_id='call_iyq0Rw2AMChSJdJwPyndTRu4'), FunctionExecutionResult(content=\"['ca2e3558-1496-4197-b3ab-fd40c23fa641.png']\", call_id='call_UJpUZOP75tt8GrCk7BkKJNZe')]\n",
      "source='image_generator_agent' models_usage=RequestUsage(prompt_tokens=1168, completion_tokens=489) content='### The Adventure in the Amazon Rainforest\\n\\n**Once upon a time**, in the heart of the Amazon rainforest, there lived a curious little monkey named Miko. Miko loved to swing from tree to tree, exploring the vibrant green leaves and listening to the songs of colorful birds. One sunny morning, Miko decided to embark on an adventure to discover the hidden wonders of the forest. He waved goodbye to his friends, the toucans and frogs, and leaped into the depths of the lush jungle. \"What magical things will I find today?\" he wondered excitedly.\\n\\n![Miko swinging through the rainforest](sandbox:/120aa567-583d-4f70-ab70-28b55a9b8138.png)\\n\\n---\\n\\n**Meeting New Friends**\\n\\nAs Miko ventured deeper into the rainforest, he met a friendly sloth named Sam. \"Hello there!\" Miko called out. Sam was hanging lazily from a tree branch, munching on a leaf. \"Hi, Miko! Would you like to join me for brunch?\" Sam offered with a slow smile. Miko giggled and accepted the invitation. As they shared the yummy leaves, they shared stories about the rainforest. Sam told Miko about the magical plants that could heal, and Miko shared tales of playful parrots and glittering butterflies.\\n\\n![Miko and Sam having brunch](sandbox:/ac1f90f8-4d6a-4d00-8d9c-581f79f2cdf7.png)\\n\\n---\\n\\n**A World of Wonders**\\n\\nAfter their meal, Miko and Sam decided to explore together. They wandered through a meadow filled with wildflowers and spotted bright butterflies fluttering around. As they continued their journey, they discovered a sparkling river filled with fish that danced like jewels! \"Wow, look at the colors!\" Miko squealed in delight. They splashed in the water, laughing and playing as the sun began to dip below the trees, casting a golden light over the forest. Together, they relished the magic of their home and the beauty of their friendship.\\n\\n![Miko and Sam playing by the river](sandbox:/ca2e3558-1496-4197-b3ab-fd40c23fa641.png)\\n\\n--- \\n\\nAnd so, Miko and Sam continued their adventures, discovering more wonders of the Amazon rainforest, sharing laughter and friendship forever.'\n",
      "source='book_generator_agent' models_usage=RequestUsage(prompt_tokens=1549, completion_tokens=553) content=[FunctionCall(id='call_IpP4ZVXJCHnIJjkKFxLgLXIw', arguments='{\\n  \"sections\": [\\n    {\\n      \"title\": \"The Adventure in the Amazon Rainforest\",\\n      \"content\": \"Once upon a time, in the heart of the Amazon rainforest, there lived a curious little monkey named Miko. Miko loved to swing from tree to tree, exploring the vibrant green leaves and listening to the songs of colorful birds. One sunny morning, Miko decided to embark on an adventure to discover the hidden wonders of the forest. He waved goodbye to his friends, the toucans and frogs, and leaped into the depths of the lush jungle. \\'What magical things will I find today?\\' he wondered excitedly.\",\\n      \"image\": \"120aa567-583d-4f70-ab70-28b55a9b8138.png\",\\n      \"level\": \"h1\"\\n    },\\n    {\\n      \"title\": \"Meeting New Friends\",\\n      \"content\": \"As Miko ventured deeper into the rainforest, he met a friendly sloth named Sam. \\'Hello there!\\' Miko called out. Sam was hanging lazily from a tree branch, munching on a leaf. \\'Hi, Miko! Would you like to join me for brunch?\\' Sam offered with a slow smile. Miko giggled and accepted the invitation. As they shared the yummy leaves, they shared stories about the rainforest. Sam told Miko about the magical plants that could heal, and Miko shared tales of playful parrots and glittering butterflies.\",\\n      \"image\": \"ac1f90f8-4d6a-4d00-8d9c-581f79f2cdf7.png\",\\n      \"level\": \"h1\"\\n    },\\n    {\\n      \"title\": \"A World of Wonders\",\\n      \"content\": \"After their meal, Miko and Sam decided to explore together. They wandered through a meadow filled with wildflowers and spotted bright butterflies fluttering around. As they continued their journey, they discovered a sparkling river filled with fish that danced like jewels! \\'Wow, look at the colors!\\' Miko squealed in delight. They splashed in the water, laughing and playing as the sun began to dip below the trees, casting a golden light over the forest. Together, they relished the magic of their home and the beauty of their friendship.\",\\n      \"image\": \"ca2e3558-1496-4197-b3ab-fd40c23fa641.png\",\\n      \"level\": \"h1\"\\n    }\\n  ],\\n  \"output_file\": \"children\\'s_story.pdf\",\\n  \"report_title\": \"The Wonders of the Amazon Rainforest\"\\n}', name='generate_and_save_pdf_report')]\n",
      "source='book_generator_agent' models_usage=None content=[FunctionExecutionResult(content=\"children's_story.pdf\", call_id='call_IpP4ZVXJCHnIJjkKFxLgLXIw')]\n",
      "source='book_generator_agent' models_usage=RequestUsage(prompt_tokens=2004, completion_tokens=42) content=\"I've created the 1-page children's story with 2 images and text about the wonders of the Amazon rainforest. You can download the PDF file [here](sandbox:/children's_story.pdf).\"\n"
     ]
    },
    {
     "name": "stderr",
     "output_type": "stream",
     "text": [
      "Selector selected the previous speaker: book_generator_agent\n"
     ]
    },
    {
     "name": "stdout",
     "output_type": "stream",
     "text": [
      "source='book_generator_agent' models_usage=RequestUsage(prompt_tokens=2170, completion_tokens=4) content='TERMINATE'\n",
      "TaskResult(messages=[TextMessage(source='user', models_usage=None, content=\"Create a 1 page children's story with 2 images and text about the wonders of the amazon rainforest.\"), TextMessage(source='planner_agent', models_usage=RequestUsage(prompt_tokens=121, completion_tokens=611), content='{\\n    \\'title\\': \\'The Adventure in the Amazon Rainforest\\',\\n    \\'content\\': \\'Once upon a time, in the heart of the Amazon rainforest, there lived a curious little monkey named Miko. Miko loved to swing from tree to tree, exploring the vibrant green leaves and listening to the songs of colorful birds. One sunny morning, Miko decided to embark on an adventure to discover the hidden wonders of the forest. He waved goodbye to his friends, the toucans and frogs, and leaped into the depths of the lush jungle. \"What magical things will I find today?\" he wondered excitedly.\\',\\n    \\'image_description\\': \\'A lively scene depicting Miko, the little monkey, swinging through the dense green foliage of the Amazon rainforest. Brightly colored toucans are perched on branches, chirping happily. Below, colorful frogs can be seen hopping around vibrant flowers and lush ferns. Sunlight filters through the canopy, creating a warm and inviting atmosphere.\\'\\n},\\n\\n{\\n    \\'title\\': \\'Meeting New Friends\\',\\n    \\'content\\': \\'As Miko ventured deeper into the rainforest, he met a friendly sloth named Sam. \"Hello there!\" Miko called out. Sam was hanging lazily from a tree branch, munching on a leaf. \"Hi, Miko! Would you like to join me for brunch?\" Sam offered with a slow smile. Miko giggled and accepted the invitation. As they shared the yummy leaves, they shared stories about the rainforest. Sam told Miko about the magical plants that could heal, and Miko shared tales of playful parrots and glittering butterflies.\\',\\n    \\'image_description\\': \\'A warm and cozy scene showing Miko the monkey sitting beside Sam the sloth on a tree branch. Miko is eating a leaf and laughing, while Sam is munching slowly with a content smile. Around them, the rainforest is alive with greenery, flowers, and the distant sound of chirping birds. The image captures a feeling of friendship and the enchanting atmosphere of the jungle.\\'\\n},\\n\\n{\\n    \\'title\\': \\'A World of Wonders\\',\\n    \\'content\\': \\'After their meal, Miko and Sam decided to explore together. They wandered through a meadow filled with wildflowers and spotted bright butterflies fluttering around. As they continued their journey, they discovered a sparkling river filled with fish that danced like jewels! \"Wow, look at the colors!\" Miko squealed in delight. They splashed in the water, laughing and playing as the sun began to dip below the trees, casting a golden light over the forest. Together, they relished the magic of their home and the beauty of their friendship.\\',\\n    \\'image_description\\': \\'An enchanting illustration of Miko and Sam playing by a shimmering river. Miko is joyfully splashing water, while Sam chuckles gently. The river is alive with colorful fish leaping through the air, and wildflowers line the banks. The golden sunset creates a magical glow, illuminating the vast and vibrant rainforest surrounding them.\\'\\n}'), ToolCallMessage(source='image_generator_agent', models_usage=RequestUsage(prompt_tokens=802, completion_tokens=295), content=[FunctionCall(id='call_6Mqt8ZHZAAfChbQRWsoFn5HA', arguments='{\"query\": \"A lively scene depicting Miko, the little monkey, swinging through the dense green foliage of the Amazon rainforest. Brightly colored toucans are perched on branches, chirping happily. Below, colorful frogs can be seen hopping around vibrant flowers and lush ferns. Sunlight filters through the canopy, creating a warm and inviting atmosphere.\", \"image_size\": \"1024x1024\"}', name='generate_and_save_images'), FunctionCall(id='call_iyq0Rw2AMChSJdJwPyndTRu4', arguments='{\"query\": \"A warm and cozy scene showing Miko the monkey sitting beside Sam the sloth on a tree branch. Miko is eating a leaf and laughing, while Sam is munching slowly with a content smile. Around them, the rainforest is alive with greenery, flowers, and the distant sound of chirping birds. The image captures a feeling of friendship and the enchanting atmosphere of the jungle.\", \"image_size\": \"1024x1024\"}', name='generate_and_save_images'), FunctionCall(id='call_UJpUZOP75tt8GrCk7BkKJNZe', arguments='{\"query\": \"An enchanting illustration of Miko and Sam playing by a shimmering river. Miko is joyfully splashing water, while Sam chuckles gently. The river is alive with colorful fish leaping through the air, and wildflowers line the banks. The golden sunset creates a magical glow, illuminating the vast and vibrant rainforest surrounding them.\", \"image_size\": \"1024x1024\"}', name='generate_and_save_images')]), ToolCallResultMessage(source='image_generator_agent', models_usage=None, content=[FunctionExecutionResult(content=\"['120aa567-583d-4f70-ab70-28b55a9b8138.png']\", call_id='call_6Mqt8ZHZAAfChbQRWsoFn5HA'), FunctionExecutionResult(content=\"['ac1f90f8-4d6a-4d00-8d9c-581f79f2cdf7.png']\", call_id='call_iyq0Rw2AMChSJdJwPyndTRu4'), FunctionExecutionResult(content=\"['ca2e3558-1496-4197-b3ab-fd40c23fa641.png']\", call_id='call_UJpUZOP75tt8GrCk7BkKJNZe')]), TextMessage(source='image_generator_agent', models_usage=RequestUsage(prompt_tokens=1168, completion_tokens=489), content='### The Adventure in the Amazon Rainforest\\n\\n**Once upon a time**, in the heart of the Amazon rainforest, there lived a curious little monkey named Miko. Miko loved to swing from tree to tree, exploring the vibrant green leaves and listening to the songs of colorful birds. One sunny morning, Miko decided to embark on an adventure to discover the hidden wonders of the forest. He waved goodbye to his friends, the toucans and frogs, and leaped into the depths of the lush jungle. \"What magical things will I find today?\" he wondered excitedly.\\n\\n![Miko swinging through the rainforest](sandbox:/120aa567-583d-4f70-ab70-28b55a9b8138.png)\\n\\n---\\n\\n**Meeting New Friends**\\n\\nAs Miko ventured deeper into the rainforest, he met a friendly sloth named Sam. \"Hello there!\" Miko called out. Sam was hanging lazily from a tree branch, munching on a leaf. \"Hi, Miko! Would you like to join me for brunch?\" Sam offered with a slow smile. Miko giggled and accepted the invitation. As they shared the yummy leaves, they shared stories about the rainforest. Sam told Miko about the magical plants that could heal, and Miko shared tales of playful parrots and glittering butterflies.\\n\\n![Miko and Sam having brunch](sandbox:/ac1f90f8-4d6a-4d00-8d9c-581f79f2cdf7.png)\\n\\n---\\n\\n**A World of Wonders**\\n\\nAfter their meal, Miko and Sam decided to explore together. They wandered through a meadow filled with wildflowers and spotted bright butterflies fluttering around. As they continued their journey, they discovered a sparkling river filled with fish that danced like jewels! \"Wow, look at the colors!\" Miko squealed in delight. They splashed in the water, laughing and playing as the sun began to dip below the trees, casting a golden light over the forest. Together, they relished the magic of their home and the beauty of their friendship.\\n\\n![Miko and Sam playing by the river](sandbox:/ca2e3558-1496-4197-b3ab-fd40c23fa641.png)\\n\\n--- \\n\\nAnd so, Miko and Sam continued their adventures, discovering more wonders of the Amazon rainforest, sharing laughter and friendship forever.'), ToolCallMessage(source='book_generator_agent', models_usage=RequestUsage(prompt_tokens=1549, completion_tokens=553), content=[FunctionCall(id='call_IpP4ZVXJCHnIJjkKFxLgLXIw', arguments='{\\n  \"sections\": [\\n    {\\n      \"title\": \"The Adventure in the Amazon Rainforest\",\\n      \"content\": \"Once upon a time, in the heart of the Amazon rainforest, there lived a curious little monkey named Miko. Miko loved to swing from tree to tree, exploring the vibrant green leaves and listening to the songs of colorful birds. One sunny morning, Miko decided to embark on an adventure to discover the hidden wonders of the forest. He waved goodbye to his friends, the toucans and frogs, and leaped into the depths of the lush jungle. \\'What magical things will I find today?\\' he wondered excitedly.\",\\n      \"image\": \"120aa567-583d-4f70-ab70-28b55a9b8138.png\",\\n      \"level\": \"h1\"\\n    },\\n    {\\n      \"title\": \"Meeting New Friends\",\\n      \"content\": \"As Miko ventured deeper into the rainforest, he met a friendly sloth named Sam. \\'Hello there!\\' Miko called out. Sam was hanging lazily from a tree branch, munching on a leaf. \\'Hi, Miko! Would you like to join me for brunch?\\' Sam offered with a slow smile. Miko giggled and accepted the invitation. As they shared the yummy leaves, they shared stories about the rainforest. Sam told Miko about the magical plants that could heal, and Miko shared tales of playful parrots and glittering butterflies.\",\\n      \"image\": \"ac1f90f8-4d6a-4d00-8d9c-581f79f2cdf7.png\",\\n      \"level\": \"h1\"\\n    },\\n    {\\n      \"title\": \"A World of Wonders\",\\n      \"content\": \"After their meal, Miko and Sam decided to explore together. They wandered through a meadow filled with wildflowers and spotted bright butterflies fluttering around. As they continued their journey, they discovered a sparkling river filled with fish that danced like jewels! \\'Wow, look at the colors!\\' Miko squealed in delight. They splashed in the water, laughing and playing as the sun began to dip below the trees, casting a golden light over the forest. Together, they relished the magic of their home and the beauty of their friendship.\",\\n      \"image\": \"ca2e3558-1496-4197-b3ab-fd40c23fa641.png\",\\n      \"level\": \"h1\"\\n    }\\n  ],\\n  \"output_file\": \"children\\'s_story.pdf\",\\n  \"report_title\": \"The Wonders of the Amazon Rainforest\"\\n}', name='generate_and_save_pdf_report')]), ToolCallResultMessage(source='book_generator_agent', models_usage=None, content=[FunctionExecutionResult(content=\"children's_story.pdf\", call_id='call_IpP4ZVXJCHnIJjkKFxLgLXIw')]), TextMessage(source='book_generator_agent', models_usage=RequestUsage(prompt_tokens=2004, completion_tokens=42), content=\"I've created the 1-page children's story with 2 images and text about the wonders of the Amazon rainforest. You can download the PDF file [here](sandbox:/children's_story.pdf).\"), TextMessage(source='book_generator_agent', models_usage=RequestUsage(prompt_tokens=2170, completion_tokens=4), content='TERMINATE')], stop_reason=\"Text 'TERMINATE' mentioned\")\n"
     ]
    }
   ],
   "source": [
    "book_result = book_team.run_stream(task=\"Create a 1 page children's story with 2 images and text about the wonders of the amazon rainforest.\") \n",
    "async for response in book_result:\n",
    "    print(response)"
   ]
  },
  {
   "cell_type": "code",
   "execution_count": 17,
   "metadata": {},
   "outputs": [],
   "source": [
    "sections = [\n",
    "    {\n",
    "        \"title\": \"Introduction - Early Life\",\n",
    "        \"level\": \"h1\",\n",
    "        \"image\": \"https://picsum.photos/536/354\",\n",
    "        \"content\": (\"Marie Curie was born on 7 November 1867 in Warsaw, Poland. \"\n",
    "                    \"She was the youngest of five children. Both of her parents were teachers. \"\n",
    "                    \"Her father was a math and physics instructor, and her mother was the head of a private school. \"\n",
    "                    \"Marie's curiosity and brilliance were evident from an early age.\"),\n",
    "    }]"
   ]
  },
  {
   "cell_type": "code",
   "execution_count": null,
   "metadata": {},
   "outputs": [],
   "source": []
  },
  {
   "cell_type": "code",
   "execution_count": null,
   "metadata": {},
   "outputs": [],
   "source": []
  }
 ],
 "metadata": {
  "kernelspec": {
   "display_name": "autog",
   "language": "python",
   "name": "python3"
  },
  "language_info": {
   "codemirror_mode": {
    "name": "ipython",
    "version": 3
   },
   "file_extension": ".py",
   "mimetype": "text/x-python",
   "name": "python",
   "nbconvert_exporter": "python",
   "pygments_lexer": "ipython3",
   "version": "3.10.13"
  }
 },
 "nbformat": 4,
 "nbformat_minor": 2
}
